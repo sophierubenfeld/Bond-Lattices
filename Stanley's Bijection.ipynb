{
 "cells": [
  {
   "cell_type": "markdown",
   "id": "ad804192",
   "metadata": {},
   "source": [
    "## Defining a Stanley's Bijection function. \n",
    "____________________________________________________________________________________________________________"
   ]
  },
  {
   "cell_type": "markdown",
   "id": "e95ebade",
   "metadata": {},
   "source": [
    "#### PSUEDO CODE:"
   ]
  },
  {
   "cell_type": "raw",
   "id": "c02afa61",
   "metadata": {},
   "source": [
    "    #check if a block reappears in the next one, if it does its not part of the combination\n",
    "\n",
    "input: the bond lattice\n",
    "check if the bond lattice is a subset of the non-crossing partitons (if not, return)\n",
    "all_pfs = []\n",
    "for chain in list of chains:\n",
    "    all_pfs.append(find the parking function(chain))\n",
    "return all_pfs\n",
    "\n",
    "\n",
    "input: a single maximal chain\n",
    "    parking function = []\n",
    "    for partition in chain up to the second to last partition\n",
    "        x1 = 0\n",
    "        x2 = 0\n",
    "        for block in partition #1\n",
    "            is block in partition #2?\n",
    "                if no                  #alternative: add blocks that get merged to list, later assign var names\n",
    "                    if x1 = 0:\n",
    "                        x1 = block\n",
    "                    else:\n",
    "                        x2 = block\n",
    "                if yes, continue\n",
    "        look at all nums in x1, x2 and find the smallest\n",
    "        minimum1 = min(x1)\n",
    "        minimum2 = min(x2)\n",
    "        if min(x1) < min(x2):\n",
    "            smaller = x1\n",
    "            bigger = x2\n",
    "        else:\n",
    "            smaller = x2         #do i need to define smaller first?\n",
    "            bigger = x1\n",
    "            \n",
    "       parking_pref = 0\n",
    "       for element in smaller:\n",
    "           if element < min(bigger):\n",
    "               if element > parking_pref:\n",
    "                   parking_pref = element\n",
    "       parking_function.append(parking_pref)\n",
    "   return parking_function\n",
    "    "
   ]
  },
  {
   "cell_type": "markdown",
   "id": "3ca4c138",
   "metadata": {},
   "source": [
    "____________________________________________________________________________________________________________\n",
    "#### FIRST ATTEMPT:"
   ]
  },
  {
   "cell_type": "code",
   "execution_count": null,
   "id": "419c46f2",
   "metadata": {},
   "outputs": [],
   "source": [
    "def stanleys_bijection(BL):\n",
    "#     if BL.is_sublattice(posets.NoncrossingPartitions(n)) == False:\n",
    "#         return\n",
    "    all_pfs = []\n",
    "    chains = BL.maximal_chains()\n",
    "    for chain in chains:\n",
    "        print(\"CHAIN:\", chain)\n",
    "        parking_func = get_parking_function(chain)\n",
    "        all_pfs.append(parking_func)\n",
    "        print(\"PARKING FUNC = \", parking_func)\n",
    "    return all_pfs"
   ]
  },
  {
   "cell_type": "code",
   "execution_count": null,
   "id": "87c90482",
   "metadata": {},
   "outputs": [],
   "source": [
    "def get_parking_function(chain):\n",
    "    chain_length = len(chain)\n",
    "    parking_function = []\n",
    "    for index in range(0, chain_length - 1):\n",
    "        x1 = 0\n",
    "        x2 = 0\n",
    "        for block in chain[index]:\n",
    "            print(\"block = \", block)\n",
    "            print(\"next chain = \", chain[index+1]) #problem with double indexing is that some partitions will only have 2 blocks- not always = to # of elems in the chain\n",
    "            if block not in chain[index+1]: #potential problem = iterating through entire next partition\n",
    "                print(block,\" is not in \", chain[index+1])\n",
    "                if x1 == 0:    #alternative: add blocks that get merged to list, later assign var names\n",
    "                    x1 = block\n",
    "                    print(\"x1 = \", block)\n",
    "                else:\n",
    "                    x2 = block\n",
    "                    print(\"x2 = \", block)\n",
    "        print(\"x1 type:\", type(x1))\n",
    "        print(\"x2 type\", type(x2))\n",
    "        if min(x1) < min(x2):\n",
    "            smaller = x1\n",
    "            bigger = x2\n",
    "        else:\n",
    "            smaller = x2         #do i need to define smaller first?\n",
    "            bigger = x1\n",
    "        print(\"smaller = \", smaller, \" and bigger = \", bigger)\n",
    "        parking_pref = 0\n",
    "        for element in smaller:\n",
    "            if element < min(bigger):\n",
    "                if element > parking_pref:\n",
    "                    parking_pref = element\n",
    "        print(\"parking_pref = \", parking_pref)\n",
    "        parking_function.append(parking_pref)\n",
    "    return list(parking_function)"
   ]
  },
  {
   "cell_type": "markdown",
   "id": "49e20357",
   "metadata": {},
   "source": [
    "____________________________________________________________________________________________________________\n",
    "#### FINAL PRODUCT:"
   ]
  },
  {
   "cell_type": "code",
   "execution_count": null,
   "id": "78229845",
   "metadata": {},
   "outputs": [],
   "source": [
    "#CLEANED:\n",
    "\n",
    "def stanleys_bijection(BL):\n",
    "    '''Computes Stanley's bijection on a noncrossing Bond Lattice\n",
    "    input: a Bond Lattice of noncrossing partitions\n",
    "    return: a list of all parking functions provided via Stanleys Bijection'''\n",
    "    all_pfs = []\n",
    "    chains = BL.maximal_chains()\n",
    "    for chain in chains:\n",
    "        parking_func = get_parking_function(chain)\n",
    "        all_pfs.append(parking_func)\n",
    "    return all_pfs\n",
    "\n",
    "def get_parking_function(chain):\n",
    "    '''Computes the parking function for a given maximal chain\n",
    "    input: maximal noncrossing chain of a poset\n",
    "    return: the parking function of the given chain'''\n",
    "    chain_length = len(chain)\n",
    "    parking_function = []\n",
    "    for index in range(0, chain_length - 1):\n",
    "        x1 = 0\n",
    "        x2 = 0\n",
    "        for block in chain[index]:\n",
    "            if block not in chain[index+1]: \n",
    "                if x1 == 0: \n",
    "                    x1 = block\n",
    "                else:\n",
    "                    x2 = block\n",
    "        if min(x1) < min(x2):\n",
    "            smaller = x1\n",
    "            bigger = x2\n",
    "        else:\n",
    "            smaller = x2  \n",
    "            bigger = x1\n",
    "        parking_pref = 0\n",
    "        for element in smaller:\n",
    "            if element < min(bigger):\n",
    "                if element > parking_pref:\n",
    "                    parking_pref = element\n",
    "        parking_function.append(parking_pref)\n",
    "    return list(parking_function)"
   ]
  },
  {
   "cell_type": "markdown",
   "id": "12ee2ab2",
   "metadata": {},
   "source": [
    "____________________________________________________________________________________________________________\n",
    "#### TESTING:"
   ]
  },
  {
   "cell_type": "code",
   "execution_count": null,
   "id": "a710cb30",
   "metadata": {},
   "outputs": [],
   "source": [
    "#TESTING:\n",
    "\n",
    "c4 = Graph()\n",
    "c4.add_edge(1,2)\n",
    "c4.add_edge(2,3)\n",
    "c4.add_edge(3,4)\n",
    "c4.add_edge(1,4)\n",
    "# c4.add_edge(1,3)\n",
    "c4.plot()\n",
    "\n",
    "stanleys_bijection(Bond_Lattice(c4, 4), 4)"
   ]
  }
 ],
 "metadata": {
  "kernelspec": {
   "display_name": "SageMath 9.6",
   "language": "sage",
   "name": "sagemath-9.6"
  },
  "language_info": {
   "codemirror_mode": {
    "name": "ipython",
    "version": 3
   },
   "file_extension": ".py",
   "mimetype": "text/x-python",
   "name": "python",
   "nbconvert_exporter": "python",
   "pygments_lexer": "ipython3",
   "version": "3.10.3"
  }
 },
 "nbformat": 4,
 "nbformat_minor": 5
}
