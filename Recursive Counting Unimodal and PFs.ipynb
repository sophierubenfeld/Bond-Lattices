{
 "cells": [
  {
   "cell_type": "markdown",
   "id": "1ae10eb5",
   "metadata": {},
   "source": [
    "## Verifying Recursive Formula \n",
    "#### (for Counting Unimodal Forests/ Parking Functions for a spider 1-graph)"
   ]
  },
  {
   "cell_type": "markdown",
   "id": "490b62cf",
   "metadata": {},
   "source": [
    "### Necessary Functions:"
   ]
  },
  {
   "cell_type": "code",
   "execution_count": 97,
   "id": "224b26cb",
   "metadata": {},
   "outputs": [],
   "source": [
    "def Bond_Lattice(g, n):\n",
    "    ''' Creates a bond lattice for a given graph \n",
    "    params: g = a graph over n vertices\n",
    "            n = the number of vertices\n",
    "    return: A Bond Lattice for the set partitions of n elements'''\n",
    "    \n",
    "    partitions = SetPartitions(n).list() #find all set partitions \n",
    "    \n",
    "    bad_partitions = [] #create lists to document partitions to include in the bond lattice or to leave out\n",
    "    good_partitions = []\n",
    "    \n",
    "    for partition in partitions: #looking at each partition indvidually\n",
    "        good_partition = True #automatically assume it creates a connected subgraph (innocent until proven guilty)\n",
    "\n",
    "        for block in partition: #look at a block of the partition                \n",
    "            new_graph = g.subgraph(vertices = block) #create an induced subgraph of the block\n",
    "            good_partition = new_graph.is_connected() #ask whether the subgraph of the partition is connected\n",
    "            if good_partition == False: #if its not connected...\n",
    "                bad_partitions.append(partition) #add it to the list of bad partitions\n",
    "                break #stop looking at this partition\n",
    "            \n",
    "        if good_partition: #if the induced subgraph of every block are all connected...\n",
    "            good_partitions.append(partition) #add it to the list of good partitions\n",
    "        \n",
    "    return posets.SetPartitions(n).subposet(good_partitions) #return a poset of only the good partitions\n",
    "\n",
    "def maximal_chains(BL):\n",
    "    '''Gives the number of maximal chains of a bond lattice.\n",
    "    Input: BL = the bond lattice\n",
    "    Return: the number of maximal chains in the lattice'''\n",
    "    return len(BL.maximal_chains())\n",
    "\n",
    "def stanleys_bijection(BL):\n",
    "    '''Computes Stanley's bijection on a noncrossing Bond Lattice\n",
    "    input: a Bond Lattice of noncrossing partitions\n",
    "    return: a list of all parking functions provided via Stanleys Bijection'''\n",
    "    all_pfs = [] #create an empty list\n",
    "    chains = BL.maximal_chains() #finds all maximal chains of the given bond lattice\n",
    "    for chain in chains: #iterate through each chain\n",
    "        parking_func = get_parking_function(chain) #retrieves the parking function for a given chain\n",
    "        all_pfs.append(parking_func) #adds this parking function to the total list\n",
    "    return all_pfs\n",
    "\n",
    "def get_parking_function(chain):\n",
    "    '''Computes the parking function for a given maximal chain\n",
    "    input: maximal noncrossing chain of a poset\n",
    "    return: the parking function of the given chain'''\n",
    "    chain_length = len(chain) #number of elements in the chain\n",
    "    parking_function = [] #create an empty parking function\n",
    "    for index in range(0, chain_length - 1):\n",
    "        x1 = 0\n",
    "        x2 = 0\n",
    "        for block in chain[index]: #identifying which blocks are combined in the next partition\n",
    "            if block not in chain[index+1]: \n",
    "                if x1 == 0: \n",
    "                    x1 = block\n",
    "                else:\n",
    "                    x2 = block\n",
    "        if min(x1) < min(x2):\n",
    "            smaller = x1\n",
    "            bigger = x2\n",
    "        else:\n",
    "            smaller = x2  \n",
    "            bigger = x1\n",
    "        parking_pref = 0\n",
    "        for element in smaller:\n",
    "            if element < min(bigger):\n",
    "                if element > parking_pref:\n",
    "                    parking_pref = element\n",
    "        parking_function.append(parking_pref)\n",
    "    return list(parking_function)"
   ]
  },
  {
   "cell_type": "markdown",
   "id": "2ab41807",
   "metadata": {},
   "source": [
    "#### function to make cycle graphs:"
   ]
  },
  {
   "cell_type": "code",
   "execution_count": 98,
   "id": "885729e7",
   "metadata": {},
   "outputs": [],
   "source": [
    "def cycle_graphs(n):\n",
    "    ''' Creates a cycle graph on n vertices\n",
    "    input: n = number of vertices\n",
    "    output: a cycle graph on n vertices'''\n",
    "    cyc = Graph()\n",
    "    for i in range(1, n):\n",
    "        cyc.add_edge(i, i + 1)\n",
    "    cyc.add_edge(1, n)\n",
    "    return cyc"
   ]
  },
  {
   "cell_type": "code",
   "execution_count": 99,
   "id": "6557604f",
   "metadata": {},
   "outputs": [],
   "source": [
    "# cycle_graphs(5).plot()"
   ]
  },
  {
   "cell_type": "markdown",
   "id": "11d2aef7",
   "metadata": {},
   "source": [
    "#### function to add triangulation edges to cycle graphs:"
   ]
  },
  {
   "cell_type": "code",
   "execution_count": 100,
   "id": "160204a7",
   "metadata": {},
   "outputs": [],
   "source": [
    "def triangulate(vertex, graph):\n",
    "    ''' Create a spider-vertex graph for a given vertex\n",
    "    input: vertex = a vertex to create a spider graph from\n",
    "           graph = the graph to triangulate\n",
    "    output: a triangulation spider graph'''\n",
    "    triangulated = graph\n",
    "    for v in graph.vertices():\n",
    "        if vertex != v:\n",
    "            if graph.has_edge(vertex, v) == False:\n",
    "                triangulated.add_edge(vertex, v)\n",
    "    triangulated.set_pos(triangulated.layout_circular())\n",
    "    return triangulated"
   ]
  },
  {
   "cell_type": "code",
   "execution_count": 101,
   "id": "ebd23fa9",
   "metadata": {},
   "outputs": [],
   "source": [
    "# triangulate(1, cycle_graphs(5)).plot()"
   ]
  },
  {
   "cell_type": "markdown",
   "id": "a3d8fa9c",
   "metadata": {},
   "source": [
    "#### to get parking functions of a spider-1 k-gon:"
   ]
  },
  {
   "cell_type": "code",
   "execution_count": 102,
   "id": "762ec223",
   "metadata": {},
   "outputs": [],
   "source": [
    "def pf_spider1(n):\n",
    "    triangulate(1, cycle_graphs(n)).plot()\n",
    "    return maximal_chains(Bond_Lattice(triangulate(1, cycle_graphs(n)),n))"
   ]
  },
  {
   "cell_type": "markdown",
   "id": "d1412906",
   "metadata": {},
   "source": [
    "### The Recursive Formula:"
   ]
  },
  {
   "cell_type": "code",
   "execution_count": 103,
   "id": "abc86a99",
   "metadata": {},
   "outputs": [],
   "source": [
    "# p(n) = n (p(n-1)) + sum_{k=3}^{n-1}n-2 Choose k - 2 p(k-1) p(n-k+1)\n",
    "# p(n) = number of parking functions of the 1 - spider n-gon"
   ]
  },
  {
   "cell_type": "code",
   "execution_count": 104,
   "id": "ee6d33c6",
   "metadata": {},
   "outputs": [],
   "source": [
    "def type1(n):\n",
    "    '''Calculate the number of Type1 forests for a 1-spider graph on n vertices\n",
    "    input: n = number of vertices on the triangulation graph\n",
    "    output: the number of type 1 forests or parking functions with this characteristic'''\n",
    "    return n*pf_spider1(n - 1)"
   ]
  },
  {
   "cell_type": "code",
   "execution_count": 105,
   "id": "3dc451d5",
   "metadata": {},
   "outputs": [],
   "source": [
    "def type2(n, k = 3, tot = 0):\n",
    "    '''Calculate the total number of Type2 forests for a parking function of length n - 1 \n",
    "    (a spider-1 graph on n vertices)\n",
    "    input: n = length of parking function\n",
    "           k = starting value in binomial coefficient\n",
    "           tot = running total\n",
    "    output: number of Type2 forests'''\n",
    "    total = tot\n",
    "    while k <= n - 1:\n",
    "        total += binomial(n-2, k-2) * pf_spider1(k - 1) * pf_spider1(n - k + 1)\n",
    "        return type2(n, k = k+1, tot = total)\n",
    "    return total"
   ]
  },
  {
   "cell_type": "code",
   "execution_count": 106,
   "id": "e9ddd19f",
   "metadata": {},
   "outputs": [],
   "source": [
    "def unimodal_forests_count(n):\n",
    "    '''Computes the number of unimodal forests for a spider-1 graph on n vertices.\n",
    "    Note: this is also the number of parking functions for a spider-1 graph on n vertices\n",
    "    input: n = the number of vertices on the graph\n",
    "    output: the total number of unimodal forests'''\n",
    "    t1 = type1(n)\n",
    "    t2 = type2(n)\n",
    "    return t1 + t2"
   ]
  },
  {
   "cell_type": "markdown",
   "id": "b179e239",
   "metadata": {},
   "source": [
    "##### testing:"
   ]
  },
  {
   "cell_type": "code",
   "execution_count": 107,
   "id": "e8fc1470",
   "metadata": {
    "scrolled": true
   },
   "outputs": [
    {
     "data": {
      "text/plain": [
       "70"
      ]
     },
     "execution_count": 107,
     "metadata": {},
     "output_type": "execute_result"
    }
   ],
   "source": [
    "type1(5)"
   ]
  },
  {
   "cell_type": "code",
   "execution_count": 108,
   "id": "4a7df72e",
   "metadata": {},
   "outputs": [
    {
     "data": {
      "text/plain": [
       "18"
      ]
     },
     "execution_count": 108,
     "metadata": {},
     "output_type": "execute_result"
    }
   ],
   "source": [
    "type2(5, k = 3)"
   ]
  },
  {
   "cell_type": "code",
   "execution_count": 109,
   "id": "b7518b7c",
   "metadata": {},
   "outputs": [
    {
     "data": {
      "text/plain": [
       "88"
      ]
     },
     "execution_count": 109,
     "metadata": {},
     "output_type": "execute_result"
    }
   ],
   "source": [
    "unimodal_forests_count(5)"
   ]
  },
  {
   "cell_type": "markdown",
   "id": "6dc5789f",
   "metadata": {},
   "source": [
    "## + How does the number of type 1 or type 2 trees change when you increase the number of sides in a shape"
   ]
  },
  {
   "cell_type": "code",
   "execution_count": 110,
   "id": "725d4872",
   "metadata": {},
   "outputs": [
    {
     "name": "stdout",
     "output_type": "stream",
     "text": [
      "3\n",
      "14\n",
      "88\n",
      "694\n",
      "6578\n",
      "72792\n",
      "920904\n"
     ]
    }
   ],
   "source": [
    "for i in range(3, 10):\n",
    "    print(unimodal_forests_count(i))"
   ]
  },
  {
   "cell_type": "code",
   "execution_count": 112,
   "id": "18476523",
   "metadata": {},
   "outputs": [
    {
     "name": "stdout",
     "output_type": "stream",
     "text": [
      "3 / 0 / 3\n",
      "12 / 2 / 14\n",
      "70 / 18 / 88\n",
      "528 / 166 / 694\n",
      "4858 / 1720 / 6578\n",
      "52624 / 20168 / 72792\n",
      "655128 / 265776 / 920904\n"
     ]
    }
   ],
   "source": [
    "for i in range(3, 10):\n",
    "    print(type1(i), '/', type2(i), '/', unimodal_forests_count(i))"
   ]
  }
 ],
 "metadata": {
  "kernelspec": {
   "display_name": "SageMath 9.6",
   "language": "sage",
   "name": "sagemath-9.6"
  },
  "language_info": {
   "codemirror_mode": {
    "name": "ipython",
    "version": 3
   },
   "file_extension": ".py",
   "mimetype": "text/x-python",
   "name": "python",
   "nbconvert_exporter": "python",
   "pygments_lexer": "ipython3",
   "version": "3.10.3"
  }
 },
 "nbformat": 4,
 "nbformat_minor": 5
}
