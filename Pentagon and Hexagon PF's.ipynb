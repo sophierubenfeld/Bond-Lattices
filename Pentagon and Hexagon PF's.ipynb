{
 "cells": [
  {
   "cell_type": "markdown",
   "id": "bd1fdc80",
   "metadata": {},
   "source": [
    "## This code defines the necessary functions to find which parking functions are (or are not) expressed given a graph. \n",
    "\n",
    "____________________________________________________________________________________________________________\n",
    "\n",
    "### Inquiry: \n",
    ">* given a pentagon (or hexagon), which PFs are or are not included \n",
    ">* are they related? \n",
    ">* how many are there?\n",
    "____________________________________________________________________________________________________________\n",
    "### Some Defintions:\n",
    "1. Shape0 always defines the cycle graph of a shape\n",
    "2. Shape1 defines the triangulation graph of the shape with all possible triangulation edges coming out of vertex 1 (this follows for other vertices/graphs with similar names)\n",
    "3. Shape_test represents a shape with 1 inner edge (typically defined in the comments/code) for the sake of comparison to shapes that share that inner edge but also have others\n",
    "____________________________________________________________________________________________________________"
   ]
  },
  {
   "cell_type": "markdown",
   "id": "9ba9fa7b",
   "metadata": {},
   "source": [
    "## Defining Necessary Functions:"
   ]
  },
  {
   "cell_type": "code",
   "execution_count": 5,
   "id": "c3cc3ff4",
   "metadata": {
    "scrolled": true
   },
   "outputs": [],
   "source": [
    "# from ipynb.fs.full.test import ordered_cycle_decomps\n",
    "# ordered_cycle_decomps(5)"
   ]
  },
  {
   "cell_type": "code",
   "execution_count": 6,
   "id": "8aef6595",
   "metadata": {},
   "outputs": [],
   "source": [
    "def Bond_Lattice(g, n):\n",
    "    ''' Creates a bond lattice for a given graph \n",
    "    params: g = a graph over n vertices\n",
    "            n = the number of vertices\n",
    "    return: A Bond Lattice for the set partitions of n elements'''\n",
    "    \n",
    "    partitions = SetPartitions(n).list() #find all set partitions \n",
    "    \n",
    "    bad_partitions = [] #create lists to document partitions to include in the bond lattice or to leave out\n",
    "    good_partitions = []\n",
    "    \n",
    "    for partition in partitions: #looking at each partition indvidually\n",
    "        good_partition = True #automatically assume it creates a connected subgraph (innocent until proven guilty)\n",
    "\n",
    "        for block in partition: #look at a block of the partition                \n",
    "            new_graph = g.subgraph(vertices = block) #create an induced subgraph of the block\n",
    "            good_partition = new_graph.is_connected() #ask whether the subgraph of the partition is connected\n",
    "            if good_partition == False: #if its not connected...\n",
    "                bad_partitions.append(partition) #add it to the list of bad partitions\n",
    "                break #stop looking at this partition\n",
    "            \n",
    "        if good_partition: #if the induced subgraph of every block are all connected...\n",
    "            good_partitions.append(partition) #add it to the list of good partitions\n",
    "        \n",
    "    return posets.SetPartitions(n).subposet(good_partitions) #return a poset of only the good partitions\n",
    "\n",
    "# from Developed_Functions import Bond_Lattice\n"
   ]
  },
  {
   "cell_type": "code",
   "execution_count": 7,
   "id": "ac4cd645",
   "metadata": {},
   "outputs": [],
   "source": [
    "def maximal_chains(BL):\n",
    "    '''Gives the number of maximal chains of a bond lattice.\n",
    "    Input: BL = the bond lattice\n",
    "    Return: the number of maximal chains in the lattice'''\n",
    "    return len(BL.maximal_chains())"
   ]
  },
  {
   "cell_type": "code",
   "execution_count": 8,
   "id": "8429ec4f",
   "metadata": {},
   "outputs": [],
   "source": [
    "def stanleys_bijection(BL):\n",
    "    '''Computes Stanley's bijection on a noncrossing Bond Lattice\n",
    "    input: a Bond Lattice of noncrossing partitions\n",
    "    return: a list of all parking functions provided via Stanleys Bijection'''\n",
    "    all_pfs = []\n",
    "    chains = BL.maximal_chains()\n",
    "    for chain in chains:\n",
    "        parking_func = get_parking_function(chain)\n",
    "        all_pfs.append(parking_func)\n",
    "    return all_pfs\n",
    "\n",
    "def get_parking_function(chain):\n",
    "    '''Computes the parking function for a given maximal chain\n",
    "    input: maximal noncrossing chain of a poset\n",
    "    return: the parking function of the given chain'''\n",
    "    chain_length = len(chain)\n",
    "    parking_function = []\n",
    "    for index in range(0, chain_length - 1):\n",
    "        x1 = 0\n",
    "        x2 = 0\n",
    "        for block in chain[index]:\n",
    "            if block not in chain[index+1]: \n",
    "                if x1 == 0: \n",
    "                    x1 = block\n",
    "                else:\n",
    "                    x2 = block\n",
    "        if min(x1) < min(x2):\n",
    "            smaller = x1\n",
    "            bigger = x2\n",
    "        else:\n",
    "            smaller = x2  \n",
    "            bigger = x1\n",
    "        parking_pref = 0\n",
    "        for element in smaller:\n",
    "            if element < min(bigger):\n",
    "                if element > parking_pref:\n",
    "                    parking_pref = element\n",
    "        parking_function.append(parking_pref)\n",
    "    return list(parking_function)"
   ]
  },
  {
   "cell_type": "code",
   "execution_count": 9,
   "id": "3295dad2",
   "metadata": {},
   "outputs": [],
   "source": [
    "def in_common(list1, list2):\n",
    "    commonalities = []\n",
    "    for elem in list1:\n",
    "        if elem in list2:\n",
    "            commonalities.append(elem)\n",
    "    return commonalities"
   ]
  },
  {
   "cell_type": "code",
   "execution_count": 10,
   "id": "ab0e1221",
   "metadata": {},
   "outputs": [],
   "source": [
    "from sage.combinat.parking_functions import ParkingFunctions\n",
    "def pfs_not_included(pfs_of_triangulation, n):\n",
    "    '''Identifies all parking functions not found from the maximal chains of a Bond Lattice\n",
    "    input: the parking functions given by stanleys bijection and their length\n",
    "    return: the list of classical parking functions excluded from the bond lattice'''\n",
    "    not_included = []\n",
    "    all_pfs = ParkingFunctions(n).list()\n",
    "    for i in range(len(all_pfs)):\n",
    "        all_pfs[i] = list(all_pfs[i]) #to account for data type incompatability\n",
    "    for pf in all_pfs:\n",
    "        if pf not in pfs_of_triangulation:\n",
    "            not_included.append(pf)\n",
    "    return not_included"
   ]
  },
  {
   "cell_type": "code",
   "execution_count": 11,
   "id": "5971980c",
   "metadata": {},
   "outputs": [],
   "source": [
    "def noncrossing_partitions(n):\n",
    "    '''Creates poset of noncrossing partitions on n\n",
    "    input: the value to partition\n",
    "    return: a subposet of the poset of all partitions on n with only noncrossing partitions'''\n",
    "    NC = []\n",
    "    all_n = posets.SetPartitions(n)\n",
    "    for partition in all_n:\n",
    "        if partition.is_noncrossing():\n",
    "            NC.append(partition)\n",
    "    return posets.SetPartitions(n).subposet(NC)"
   ]
  },
  {
   "cell_type": "raw",
   "id": "e6b58cb9",
   "metadata": {},
   "source": [
    "INQUIRY: given a pentagon, find bond lattice & identify which PFs are NOT included (are they all complements?)"
   ]
  },
  {
   "cell_type": "markdown",
   "id": "1578e5e8",
   "metadata": {},
   "source": [
    "____________________________________________________________________________________________________________\n",
    "## Building the Pentagons:"
   ]
  },
  {
   "cell_type": "code",
   "execution_count": 12,
   "id": "bd98c97d",
   "metadata": {},
   "outputs": [],
   "source": [
    "#pentagon with no edges:\n",
    "pentagon0 = Graph()\n",
    "pentagon0.add_edge(1,2)\n",
    "pentagon0.add_edge(2,3)\n",
    "pentagon0.add_edge(3,4)\n",
    "pentagon0.add_edge(4,5)\n",
    "pentagon0.add_edge(5,1)\n",
    "\n",
    "\n",
    "pentagon0.set_pos(pentagon0.layout_circular()) #adjusting so .plot() looks correct\n",
    "pent0_bond = Bond_Lattice(pentagon0, 5) #creating the bond lattice\n",
    "pent0_pfs = stanleys_bijection(pent0_bond) #getting the parking functions from the bond lattice\n",
    "missing0 = pfs_not_included(pent0_pfs, 4) #identifying missing parking functions\n",
    "\n",
    "#pentagon with 2 edges coming out of 1\n",
    "pentagon1 = Graph()\n",
    "pentagon1.add_edge(1,2)\n",
    "pentagon1.add_edge(2,3)\n",
    "pentagon1.add_edge(3,4)\n",
    "pentagon1.add_edge(4,5)\n",
    "pentagon1.add_edge(5,1)\n",
    "\n",
    "pentagon1.add_edge(1,3)\n",
    "pentagon1.add_edge(1,4)\n",
    "\n",
    "pentagon1.set_pos(pentagon1.layout_circular())\n",
    "pent1_bond = Bond_Lattice(pentagon1, 5)\n",
    "pent1_pfs = stanleys_bijection(pent1_bond)\n",
    "missing1 = pfs_not_included(pent1_pfs, 4)\n",
    "\n",
    "#pentagon with 2 edges coming out of 2\n",
    "pentagon2 = Graph()\n",
    "pentagon2.add_edge(1,2)\n",
    "pentagon2.add_edge(2,3)\n",
    "pentagon2.add_edge(3,4)\n",
    "pentagon2.add_edge(4,5)\n",
    "pentagon2.add_edge(5,1)\n",
    "\n",
    "pentagon2.add_edge(2,5)\n",
    "pentagon2.add_edge(2,4)\n",
    "\n",
    "pentagon2.set_pos(pentagon2.layout_circular())\n",
    "pent2_bond = Bond_Lattice(pentagon2, 5)\n",
    "pent2_pfs = stanleys_bijection(pent2_bond)\n",
    "missing2 = pfs_not_included(pent2_pfs, 4)\n",
    "\n",
    "#pentagon with 2 edges coming out of 3\n",
    "pentagon3 = Graph()\n",
    "pentagon3.add_edge(1,2)\n",
    "pentagon3.add_edge(2,3)\n",
    "pentagon3.add_edge(3,4)\n",
    "pentagon3.add_edge(4,5)\n",
    "pentagon3.add_edge(5,1)\n",
    "\n",
    "pentagon3.add_edge(3,5)\n",
    "pentagon3.add_edge(1,3)\n",
    "\n",
    "pentagon3.set_pos(pentagon3.layout_circular())\n",
    "pent3_bond = Bond_Lattice(pentagon3, 5)\n",
    "pent3_pfs = stanleys_bijection(pent3_bond)\n",
    "missing3 = pfs_not_included(pent3_pfs, 4)\n",
    "\n",
    "#pentagon with 2 edges coming out of 4\n",
    "pentagon4 = Graph()\n",
    "pentagon4.add_edge(1,2)\n",
    "pentagon4.add_edge(2,3)\n",
    "pentagon4.add_edge(3,4)\n",
    "pentagon4.add_edge(4,5)\n",
    "pentagon4.add_edge(5,1)\n",
    "\n",
    "pentagon4.add_edge(4,2)\n",
    "pentagon4.add_edge(1,4)\n",
    "\n",
    "pentagon4.set_pos(pentagon4.layout_circular())\n",
    "pent4_bond = Bond_Lattice(pentagon4, 5)\n",
    "pent4_pfs = stanleys_bijection(pent4_bond)\n",
    "missing4 = pfs_not_included(pent4_pfs, 4)\n",
    "\n",
    "#pentagon with 2 edges coming out of 5\n",
    "pentagon5 = Graph()\n",
    "pentagon5.add_edge(1,2)\n",
    "pentagon5.add_edge(2,3)\n",
    "pentagon5.add_edge(3,4)\n",
    "pentagon5.add_edge(4,5)\n",
    "pentagon5.add_edge(5,1)\n",
    "\n",
    "pentagon5.add_edge(3,5)\n",
    "pentagon5.add_edge(5,2)\n",
    "\n",
    "pentagon5.set_pos(pentagon5.layout_circular())\n",
    "pent5_bond = Bond_Lattice(pentagon5, 5)\n",
    "pent5_pfs = stanleys_bijection(pent5_bond)\n",
    "missing5 = pfs_not_included(pent5_pfs, 4)\n",
    "\n",
    "#will this provide the same number of pf's beyond the 60 from the outline that happen\n",
    "# when you just have the single edge + the pentagon?\n",
    "\n",
    "#test: pentagon with only 35 inner edge\n",
    "test1 = Graph()\n",
    "test1.add_edge(1,2)\n",
    "test1.add_edge(2,3)\n",
    "test1.add_edge(3,4)\n",
    "test1.add_edge(4,5)\n",
    "test1.add_edge(5,1)\n",
    "\n",
    "test1.add_edge(3,5)\n",
    "\n",
    "test1.set_pos(test1.layout_circular())\n",
    "test1_bond = Bond_Lattice(test1, 5)\n",
    "test1_pfs = stanleys_bijection(test1_bond)\n",
    "test1_missing = pfs_not_included(test1_pfs, 4)\n",
    "\n",
    "#test: pentagon with only 14 inner edge\n",
    "test2 = Graph()\n",
    "test2.add_edge(1,2)\n",
    "test2.add_edge(2,3)\n",
    "test2.add_edge(3,4)\n",
    "test2.add_edge(4,5)\n",
    "test2.add_edge(5,1)\n",
    "\n",
    "test2.add_edge(1,4)\n",
    "\n",
    "test2.set_pos(test2.layout_circular())\n",
    "test2_bond = Bond_Lattice(test2, 5)\n",
    "test2_pfs = stanleys_bijection(test2_bond)\n",
    "test2_missing = pfs_not_included(test2_pfs, 4)\n",
    "\n",
    "# len(test2_pfs) - 60"
   ]
  },
  {
   "cell_type": "markdown",
   "id": "8ebf5179",
   "metadata": {},
   "source": [
    "__________________________________________________________________________________________________\n",
    "## Pentagon Testing:"
   ]
  },
  {
   "cell_type": "code",
   "execution_count": 13,
   "id": "5f5f70f9",
   "metadata": {},
   "outputs": [
    {
     "data": {
      "image/png": "[encoded data removed]",
      "text/plain": [
       "Graphics object consisting of 13 graphics primitives"
      ]
     },
     "execution_count": 13,
     "metadata": {},
     "output_type": "execute_result"
    }
   ],
   "source": [
    "pentagon1.plot()"
   ]
  },
  {
   "cell_type": "code",
   "execution_count": 14,
   "id": "8345377b",
   "metadata": {},
   "outputs": [],
   "source": [
    "# pent1_bond.plot(figsize=(15,15))"
   ]
  },
  {
   "cell_type": "code",
   "execution_count": 15,
   "id": "42fdfb77",
   "metadata": {},
   "outputs": [
    {
     "data": {
      "text/plain": [
       "88"
      ]
     },
     "execution_count": 15,
     "metadata": {},
     "output_type": "execute_result"
    }
   ],
   "source": [
    "maximal_chains(pent1_bond)"
   ]
  },
  {
   "cell_type": "code",
   "execution_count": 16,
   "id": "0e8b9cad",
   "metadata": {},
   "outputs": [
    {
     "data": {
      "text/plain": [
       "34"
      ]
     },
     "execution_count": 16,
     "metadata": {},
     "output_type": "execute_result"
    }
   ],
   "source": [
    "# number of elements in the bond lattice:\n",
    "pent1_bond.cardinality()"
   ]
  },
  {
   "cell_type": "code",
   "execution_count": 17,
   "id": "c964c12f",
   "metadata": {},
   "outputs": [],
   "source": [
    "#creating the noncrossing set partitions of 5:\n",
    "NC5 = noncrossing_partitions(5)"
   ]
  },
  {
   "cell_type": "code",
   "execution_count": 18,
   "id": "43758b3a",
   "metadata": {},
   "outputs": [
    {
     "ename": "NameError",
     "evalue": "name 'NC5_poset' is not defined",
     "output_type": "error",
     "traceback": [
      "\u001b[0;31m---------------------------------------------------------------------------\u001b[0m",
      "\u001b[0;31mNameError\u001b[0m                                 Traceback (most recent call last)",
      "\u001b[0;32m/var/folders/rz/tp6krlvs68z_zt9b6t9sk95c0000gn/T/ipykernel_78390/3870582664.py\u001b[0m in \u001b[0;36m<module>\u001b[0;34m\u001b[0m\n\u001b[1;32m      1\u001b[0m \u001b[0;31m#pent1 excluded pfs and the maximal chains they come from:\u001b[0m\u001b[0;34m\u001b[0m\u001b[0;34m\u001b[0m\u001b[0m\n\u001b[0;32m----> 2\u001b[0;31m \u001b[0mNC5_poset_max_chains\u001b[0m \u001b[0;34m=\u001b[0m \u001b[0mNC5_poset\u001b[0m\u001b[0;34m.\u001b[0m\u001b[0mmaximal_chains\u001b[0m\u001b[0;34m(\u001b[0m\u001b[0;34m)\u001b[0m\u001b[0;34m\u001b[0m\u001b[0;34m\u001b[0m\u001b[0m\n\u001b[0m\u001b[1;32m      3\u001b[0m \u001b[0mpent1_max_chains\u001b[0m \u001b[0;34m=\u001b[0m \u001b[0mpent1_bond\u001b[0m\u001b[0;34m.\u001b[0m\u001b[0mmaximal_chains\u001b[0m\u001b[0;34m(\u001b[0m\u001b[0;34m)\u001b[0m\u001b[0;34m\u001b[0m\u001b[0;34m\u001b[0m\u001b[0m\n\u001b[1;32m      4\u001b[0m \u001b[0;34m\u001b[0m\u001b[0m\n\u001b[1;32m      5\u001b[0m \u001b[0;32mfor\u001b[0m \u001b[0mchain\u001b[0m \u001b[0;32min\u001b[0m \u001b[0mNC5_poset_max_chains\u001b[0m\u001b[0;34m:\u001b[0m\u001b[0;34m\u001b[0m\u001b[0;34m\u001b[0m\u001b[0m\n",
      "\u001b[0;31mNameError\u001b[0m: name 'NC5_poset' is not defined"
     ]
    }
   ],
   "source": [
    "#pent1 excluded pfs and the maximal chains they come from:\n",
    "NC5_poset_max_chains = NC5_poset.maximal_chains()\n",
    "pent1_max_chains = pent1_bond.maximal_chains()\n",
    "\n",
    "for chain in NC5_poset_max_chains:\n",
    "    if chain not in pent1_max_chains:\n",
    "        print(chain,get_parking_function(chain))\n",
    "        print()"
   ]
  },
  {
   "cell_type": "code",
   "execution_count": null,
   "id": "3a85ec8e",
   "metadata": {},
   "outputs": [],
   "source": [
    "#included parking functions in pentagon1 and the maximal chains they come from:\n",
    "pent1_max_chains = pent1_bond.maximal_chains()\n",
    "for chain in pent1_max_chains:\n",
    "    print(chain,get_parking_function(chain))\n",
    "    print()"
   ]
  },
  {
   "cell_type": "code",
   "execution_count": null,
   "id": "065ca91c",
   "metadata": {},
   "outputs": [],
   "source": [
    "all_4_pfs = ParkingFunctions(4).list()"
   ]
  },
  {
   "cell_type": "code",
   "execution_count": 19,
   "id": "bf4354dd",
   "metadata": {},
   "outputs": [
    {
     "name": "stdout",
     "output_type": "stream",
     "text": [
      "[{{1}, {2}, {3}, {4}, {5}}, {{1}, {2}, {3}, {4, 5}}, {{1, 2}, {3}, {4, 5}}, {{1, 2, 4, 5}, {3}}, {{1, 2, 3, 4, 5}}] [4, 1, 2, 2]\n",
      "\n",
      "[{{1}, {2}, {3}, {4}, {5}}, {{1}, {2}, {3}, {4, 5}}, {{1, 2}, {3}, {4, 5}}, {{1, 2}, {3, 4, 5}}, {{1, 2, 3, 4, 5}}] [4, 1, 3, 2]\n",
      "\n",
      "[{{1}, {2}, {3}, {4}, {5}}, {{1}, {2}, {3}, {4, 5}}, {{1, 2}, {3}, {4, 5}}, {{1, 2, 3}, {4, 5}}, {{1, 2, 3, 4, 5}}] [4, 1, 2, 3]\n",
      "\n",
      "[{{1}, {2}, {3}, {4}, {5}}, {{1}, {2}, {3}, {4, 5}}, {{1}, {2}, {3, 4, 5}}, {{1, 2}, {3, 4, 5}}, {{1, 2, 3, 4, 5}}] [4, 3, 1, 2]\n",
      "\n",
      "[{{1}, {2}, {3}, {4}, {5}}, {{1}, {2}, {3}, {4, 5}}, {{1}, {2}, {3, 4, 5}}, {{1, 3, 4, 5}, {2}}, {{1, 2, 3, 4, 5}}] [4, 3, 1, 1]\n",
      "\n",
      "[{{1}, {2}, {3}, {4}, {5}}, {{1}, {2}, {3}, {4, 5}}, {{1}, {2}, {3, 4, 5}}, {{1}, {2, 3, 4, 5}}, {{1, 2, 3, 4, 5}}] [4, 3, 2, 1]\n",
      "\n",
      "[{{1}, {2}, {3}, {4}, {5}}, {{1}, {2}, {3}, {4, 5}}, {{1}, {2, 3}, {4, 5}}, {{1, 4, 5}, {2, 3}}, {{1, 2, 3, 4, 5}}] [4, 2, 1, 1]\n",
      "\n",
      "[{{1}, {2}, {3}, {4}, {5}}, {{1}, {2}, {3}, {4, 5}}, {{1}, {2, 3}, {4, 5}}, {{1, 2, 3}, {4, 5}}, {{1, 2, 3, 4, 5}}] [4, 2, 1, 3]\n",
      "\n",
      "[{{1}, {2}, {3}, {4}, {5}}, {{1}, {2}, {3}, {4, 5}}, {{1}, {2, 3}, {4, 5}}, {{1}, {2, 3, 4, 5}}, {{1, 2, 3, 4, 5}}] [4, 2, 3, 1]\n",
      "\n",
      "[{{1}, {2}, {3}, {4}, {5}}, {{1}, {2}, {3}, {4, 5}}, {{1, 4, 5}, {2}, {3}}, {{1, 4, 5}, {2, 3}}, {{1, 2, 3, 4, 5}}] [4, 1, 2, 1]\n",
      "\n",
      "[{{1}, {2}, {3}, {4}, {5}}, {{1}, {2}, {3}, {4, 5}}, {{1, 4, 5}, {2}, {3}}, {{1, 2, 4, 5}, {3}}, {{1, 2, 3, 4, 5}}] [4, 1, 1, 2]\n",
      "\n",
      "[{{1}, {2}, {3}, {4}, {5}}, {{1}, {2}, {3}, {4, 5}}, {{1, 4, 5}, {2}, {3}}, {{1, 3, 4, 5}, {2}}, {{1, 2, 3, 4, 5}}] [4, 1, 1, 1]\n",
      "\n",
      "[{{1}, {2}, {3}, {4}, {5}}, {{1}, {2}, {3, 4}, {5}}, {{1, 5}, {2}, {3, 4}}, {{1, 5}, {2, 3, 4}}, {{1, 2, 3, 4, 5}}] [3, 1, 2, 1]\n",
      "\n",
      "[{{1}, {2}, {3}, {4}, {5}}, {{1}, {2}, {3, 4}, {5}}, {{1, 5}, {2}, {3, 4}}, {{1, 2, 5}, {3, 4}}, {{1, 2, 3, 4, 5}}] [3, 1, 1, 2]\n",
      "\n",
      "[{{1}, {2}, {3}, {4}, {5}}, {{1}, {2}, {3, 4}, {5}}, {{1, 5}, {2}, {3, 4}}, {{1, 3, 4, 5}, {2}}, {{1, 2, 3, 4, 5}}] [3, 1, 1, 1]\n",
      "\n",
      "[{{1}, {2}, {3}, {4}, {5}}, {{1}, {2}, {3, 4}, {5}}, {{1, 2}, {3, 4}, {5}}, {{1, 2}, {3, 4, 5}}, {{1, 2, 3, 4, 5}}] [3, 1, 4, 2]\n",
      "\n",
      "[{{1}, {2}, {3}, {4}, {5}}, {{1}, {2}, {3, 4}, {5}}, {{1, 2}, {3, 4}, {5}}, {{1, 2, 5}, {3, 4}}, {{1, 2, 3, 4, 5}}] [3, 1, 2, 2]\n",
      "\n",
      "[{{1}, {2}, {3}, {4}, {5}}, {{1}, {2}, {3, 4}, {5}}, {{1, 2}, {3, 4}, {5}}, {{1, 2, 3, 4}, {5}}, {{1, 2, 3, 4, 5}}] [3, 1, 2, 4]\n",
      "\n",
      "[{{1}, {2}, {3}, {4}, {5}}, {{1}, {2}, {3, 4}, {5}}, {{1}, {2}, {3, 4, 5}}, {{1, 2}, {3, 4, 5}}, {{1, 2, 3, 4, 5}}] [3, 4, 1, 2]\n",
      "\n",
      "[{{1}, {2}, {3}, {4}, {5}}, {{1}, {2}, {3, 4}, {5}}, {{1}, {2}, {3, 4, 5}}, {{1, 3, 4, 5}, {2}}, {{1, 2, 3, 4, 5}}] [3, 4, 1, 1]\n",
      "\n",
      "[{{1}, {2}, {3}, {4}, {5}}, {{1}, {2}, {3, 4}, {5}}, {{1}, {2}, {3, 4, 5}}, {{1}, {2, 3, 4, 5}}, {{1, 2, 3, 4, 5}}] [3, 4, 2, 1]\n",
      "\n",
      "[{{1}, {2}, {3}, {4}, {5}}, {{1}, {2}, {3, 4}, {5}}, {{1}, {2, 3, 4}, {5}}, {{1, 5}, {2, 3, 4}}, {{1, 2, 3, 4, 5}}] [3, 2, 1, 1]\n",
      "\n",
      "[{{1}, {2}, {3}, {4}, {5}}, {{1}, {2}, {3, 4}, {5}}, {{1}, {2, 3, 4}, {5}}, {{1, 2, 3, 4}, {5}}, {{1, 2, 3, 4, 5}}] [3, 2, 1, 4]\n",
      "\n",
      "[{{1}, {2}, {3}, {4}, {5}}, {{1}, {2}, {3, 4}, {5}}, {{1}, {2, 3, 4}, {5}}, {{1}, {2, 3, 4, 5}}, {{1, 2, 3, 4, 5}}] [3, 2, 4, 1]\n",
      "\n",
      "[{{1}, {2}, {3}, {4}, {5}}, {{1}, {2, 3}, {4}, {5}}, {{1, 2, 3}, {4}, {5}}, {{1, 2, 3}, {4, 5}}, {{1, 2, 3, 4, 5}}] [2, 1, 4, 3]\n",
      "\n",
      "[{{1}, {2}, {3}, {4}, {5}}, {{1}, {2, 3}, {4}, {5}}, {{1, 2, 3}, {4}, {5}}, {{1, 2, 3, 4}, {5}}, {{1, 2, 3, 4, 5}}] [2, 1, 3, 4]\n",
      "\n",
      "[{{1}, {2}, {3}, {4}, {5}}, {{1}, {2, 3}, {4}, {5}}, {{1, 2, 3}, {4}, {5}}, {{1, 2, 3, 5}, {4}}, {{1, 2, 3, 4, 5}}] [2, 1, 3, 3]\n",
      "\n",
      "[{{1}, {2}, {3}, {4}, {5}}, {{1}, {2, 3}, {4}, {5}}, {{1}, {2, 3}, {4, 5}}, {{1, 4, 5}, {2, 3}}, {{1, 2, 3, 4, 5}}] [2, 4, 1, 1]\n",
      "\n",
      "[{{1}, {2}, {3}, {4}, {5}}, {{1}, {2, 3}, {4}, {5}}, {{1}, {2, 3}, {4, 5}}, {{1, 2, 3}, {4, 5}}, {{1, 2, 3, 4, 5}}] [2, 4, 1, 3]\n",
      "\n",
      "[{{1}, {2}, {3}, {4}, {5}}, {{1}, {2, 3}, {4}, {5}}, {{1}, {2, 3}, {4, 5}}, {{1}, {2, 3, 4, 5}}, {{1, 2, 3, 4, 5}}] [2, 4, 3, 1]\n",
      "\n",
      "[{{1}, {2}, {3}, {4}, {5}}, {{1}, {2, 3}, {4}, {5}}, {{1}, {2, 3, 4}, {5}}, {{1, 5}, {2, 3, 4}}, {{1, 2, 3, 4, 5}}] [2, 3, 1, 1]\n",
      "\n",
      "[{{1}, {2}, {3}, {4}, {5}}, {{1}, {2, 3}, {4}, {5}}, {{1}, {2, 3, 4}, {5}}, {{1, 2, 3, 4}, {5}}, {{1, 2, 3, 4, 5}}] [2, 3, 1, 4]\n",
      "\n",
      "[{{1}, {2}, {3}, {4}, {5}}, {{1}, {2, 3}, {4}, {5}}, {{1}, {2, 3, 4}, {5}}, {{1}, {2, 3, 4, 5}}, {{1, 2, 3, 4, 5}}] [2, 3, 4, 1]\n",
      "\n",
      "[{{1}, {2}, {3}, {4}, {5}}, {{1}, {2, 3}, {4}, {5}}, {{1, 5}, {2, 3}, {4}}, {{1, 4, 5}, {2, 3}}, {{1, 2, 3, 4, 5}}] [2, 1, 1, 1]\n",
      "\n",
      "[{{1}, {2}, {3}, {4}, {5}}, {{1}, {2, 3}, {4}, {5}}, {{1, 5}, {2, 3}, {4}}, {{1, 5}, {2, 3, 4}}, {{1, 2, 3, 4, 5}}] [2, 1, 3, 1]\n",
      "\n",
      "[{{1}, {2}, {3}, {4}, {5}}, {{1}, {2, 3}, {4}, {5}}, {{1, 5}, {2, 3}, {4}}, {{1, 2, 3, 5}, {4}}, {{1, 2, 3, 4, 5}}] [2, 1, 1, 3]\n",
      "\n",
      "[{{1}, {2}, {3}, {4}, {5}}, {{1, 2}, {3}, {4}, {5}}, {{1, 2, 5}, {3}, {4}}, {{1, 2, 4, 5}, {3}}, {{1, 2, 3, 4, 5}}] [1, 2, 2, 2]\n",
      "\n",
      "[{{1}, {2}, {3}, {4}, {5}}, {{1, 2}, {3}, {4}, {5}}, {{1, 2, 5}, {3}, {4}}, {{1, 2, 5}, {3, 4}}, {{1, 2, 3, 4, 5}}] [1, 2, 3, 2]\n",
      "\n",
      "[{{1}, {2}, {3}, {4}, {5}}, {{1, 2}, {3}, {4}, {5}}, {{1, 2, 5}, {3}, {4}}, {{1, 2, 3, 5}, {4}}, {{1, 2, 3, 4, 5}}] [1, 2, 2, 3]\n",
      "\n",
      "[{{1}, {2}, {3}, {4}, {5}}, {{1, 2}, {3}, {4}, {5}}, {{1, 2}, {3}, {4, 5}}, {{1, 2, 4, 5}, {3}}, {{1, 2, 3, 4, 5}}] [1, 4, 2, 2]\n",
      "\n",
      "[{{1}, {2}, {3}, {4}, {5}}, {{1, 2}, {3}, {4}, {5}}, {{1, 2}, {3}, {4, 5}}, {{1, 2}, {3, 4, 5}}, {{1, 2, 3, 4, 5}}] [1, 4, 3, 2]\n",
      "\n",
      "[{{1}, {2}, {3}, {4}, {5}}, {{1, 2}, {3}, {4}, {5}}, {{1, 2}, {3}, {4, 5}}, {{1, 2, 3}, {4, 5}}, {{1, 2, 3, 4, 5}}] [1, 4, 2, 3]\n",
      "\n",
      "[{{1}, {2}, {3}, {4}, {5}}, {{1, 2}, {3}, {4}, {5}}, {{1, 2}, {3, 4}, {5}}, {{1, 2}, {3, 4, 5}}, {{1, 2, 3, 4, 5}}] [1, 3, 4, 2]\n",
      "\n",
      "[{{1}, {2}, {3}, {4}, {5}}, {{1, 2}, {3}, {4}, {5}}, {{1, 2}, {3, 4}, {5}}, {{1, 2, 5}, {3, 4}}, {{1, 2, 3, 4, 5}}] [1, 3, 2, 2]\n",
      "\n",
      "[{{1}, {2}, {3}, {4}, {5}}, {{1, 2}, {3}, {4}, {5}}, {{1, 2}, {3, 4}, {5}}, {{1, 2, 3, 4}, {5}}, {{1, 2, 3, 4, 5}}] [1, 3, 2, 4]\n",
      "\n",
      "[{{1}, {2}, {3}, {4}, {5}}, {{1, 2}, {3}, {4}, {5}}, {{1, 2, 3}, {4}, {5}}, {{1, 2, 3}, {4, 5}}, {{1, 2, 3, 4, 5}}] [1, 2, 4, 3]\n",
      "\n",
      "[{{1}, {2}, {3}, {4}, {5}}, {{1, 2}, {3}, {4}, {5}}, {{1, 2, 3}, {4}, {5}}, {{1, 2, 3, 4}, {5}}, {{1, 2, 3, 4, 5}}] [1, 2, 3, 4]\n",
      "\n",
      "[{{1}, {2}, {3}, {4}, {5}}, {{1, 2}, {3}, {4}, {5}}, {{1, 2, 3}, {4}, {5}}, {{1, 2, 3, 5}, {4}}, {{1, 2, 3, 4, 5}}] [1, 2, 3, 3]\n",
      "\n",
      "[{{1}, {2}, {3}, {4}, {5}}, {{1, 5}, {2}, {3}, {4}}, {{1, 2, 5}, {3}, {4}}, {{1, 2, 4, 5}, {3}}, {{1, 2, 3, 4, 5}}] [1, 1, 2, 2]\n",
      "\n",
      "[{{1}, {2}, {3}, {4}, {5}}, {{1, 5}, {2}, {3}, {4}}, {{1, 2, 5}, {3}, {4}}, {{1, 2, 5}, {3, 4}}, {{1, 2, 3, 4, 5}}] [1, 1, 3, 2]\n",
      "\n",
      "[{{1}, {2}, {3}, {4}, {5}}, {{1, 5}, {2}, {3}, {4}}, {{1, 2, 5}, {3}, {4}}, {{1, 2, 3, 5}, {4}}, {{1, 2, 3, 4, 5}}] [1, 1, 2, 3]\n",
      "\n",
      "[{{1}, {2}, {3}, {4}, {5}}, {{1, 5}, {2}, {3}, {4}}, {{1, 4, 5}, {2}, {3}}, {{1, 4, 5}, {2, 3}}, {{1, 2, 3, 4, 5}}] [1, 1, 2, 1]\n",
      "\n",
      "[{{1}, {2}, {3}, {4}, {5}}, {{1, 5}, {2}, {3}, {4}}, {{1, 4, 5}, {2}, {3}}, {{1, 2, 4, 5}, {3}}, {{1, 2, 3, 4, 5}}] [1, 1, 1, 2]\n",
      "\n",
      "[{{1}, {2}, {3}, {4}, {5}}, {{1, 5}, {2}, {3}, {4}}, {{1, 4, 5}, {2}, {3}}, {{1, 3, 4, 5}, {2}}, {{1, 2, 3, 4, 5}}] [1, 1, 1, 1]\n",
      "\n",
      "[{{1}, {2}, {3}, {4}, {5}}, {{1, 5}, {2}, {3}, {4}}, {{1, 5}, {2}, {3, 4}}, {{1, 5}, {2, 3, 4}}, {{1, 2, 3, 4, 5}}] [1, 3, 2, 1]\n",
      "\n",
      "[{{1}, {2}, {3}, {4}, {5}}, {{1, 5}, {2}, {3}, {4}}, {{1, 5}, {2}, {3, 4}}, {{1, 2, 5}, {3, 4}}, {{1, 2, 3, 4, 5}}] [1, 3, 1, 2]\n",
      "\n",
      "[{{1}, {2}, {3}, {4}, {5}}, {{1, 5}, {2}, {3}, {4}}, {{1, 5}, {2}, {3, 4}}, {{1, 3, 4, 5}, {2}}, {{1, 2, 3, 4, 5}}] [1, 3, 1, 1]\n",
      "\n",
      "[{{1}, {2}, {3}, {4}, {5}}, {{1, 5}, {2}, {3}, {4}}, {{1, 5}, {2, 3}, {4}}, {{1, 4, 5}, {2, 3}}, {{1, 2, 3, 4, 5}}] [1, 2, 1, 1]\n",
      "\n",
      "[{{1}, {2}, {3}, {4}, {5}}, {{1, 5}, {2}, {3}, {4}}, {{1, 5}, {2, 3}, {4}}, {{1, 5}, {2, 3, 4}}, {{1, 2, 3, 4, 5}}] [1, 2, 3, 1]\n",
      "\n",
      "[{{1}, {2}, {3}, {4}, {5}}, {{1, 5}, {2}, {3}, {4}}, {{1, 5}, {2, 3}, {4}}, {{1, 2, 3, 5}, {4}}, {{1, 2, 3, 4, 5}}] [1, 2, 1, 3]\n",
      "\n"
     ]
    }
   ],
   "source": [
    "pent0_max_chains = pent0_bond.maximal_chains()\n",
    "for chain in pent0_max_chains:\n",
    "    print(chain,get_parking_function(chain))\n",
    "    print()"
   ]
  },
  {
   "cell_type": "code",
   "execution_count": 262,
   "id": "88437777",
   "metadata": {},
   "outputs": [
    {
     "data": {
      "text/plain": [
       "88"
      ]
     },
     "execution_count": 262,
     "metadata": {},
     "output_type": "execute_result"
    }
   ],
   "source": [
    "len(pent1_pfs)"
   ]
  },
  {
   "cell_type": "code",
   "execution_count": 263,
   "id": "7f9b537e",
   "metadata": {},
   "outputs": [
    {
     "data": {
      "text/plain": [
       "[[1, 1, 1, 3],\n",
       " [1, 1, 3, 1],\n",
       " [1, 1, 3, 3],\n",
       " [1, 3, 1, 3],\n",
       " [1, 3, 3, 1],\n",
       " [3, 1, 1, 3],\n",
       " [3, 1, 3, 1],\n",
       " [3, 3, 1, 1],\n",
       " [1, 1, 3, 4],\n",
       " [1, 1, 4, 3],\n",
       " [1, 3, 1, 4],\n",
       " [1, 3, 4, 1],\n",
       " [1, 4, 1, 3],\n",
       " [1, 4, 3, 1],\n",
       " [4, 1, 1, 3],\n",
       " [4, 1, 3, 1],\n",
       " [2, 1, 2, 2],\n",
       " [2, 2, 1, 2],\n",
       " [2, 2, 2, 1],\n",
       " [2, 1, 2, 3],\n",
       " [2, 1, 3, 2],\n",
       " [2, 2, 1, 3],\n",
       " [2, 2, 3, 1],\n",
       " [2, 3, 1, 2],\n",
       " [2, 3, 2, 1],\n",
       " [3, 2, 1, 2],\n",
       " [3, 2, 2, 1],\n",
       " [1, 3, 2, 3],\n",
       " [1, 3, 3, 2],\n",
       " [2, 3, 1, 3],\n",
       " [2, 3, 3, 1],\n",
       " [3, 1, 2, 3],\n",
       " [3, 1, 3, 2],\n",
       " [3, 2, 1, 3],\n",
       " [3, 2, 3, 1],\n",
       " [3, 3, 1, 2],\n",
       " [3, 3, 2, 1]]"
      ]
     },
     "execution_count": 263,
     "metadata": {},
     "output_type": "execute_result"
    }
   ],
   "source": [
    "missing4 "
   ]
  },
  {
   "cell_type": "code",
   "execution_count": 264,
   "id": "96e1be8c",
   "metadata": {},
   "outputs": [
    {
     "data": {
      "text/plain": [
       "[[3, 1, 1, 3],\n",
       " [3, 1, 3, 1],\n",
       " [3, 3, 1, 1],\n",
       " [1, 3, 2, 3],\n",
       " [1, 3, 3, 2],\n",
       " [3, 1, 2, 3],\n",
       " [3, 1, 3, 2],\n",
       " [3, 2, 1, 3],\n",
       " [3, 2, 3, 1],\n",
       " [3, 3, 1, 2],\n",
       " [3, 3, 2, 1]]"
      ]
     },
     "execution_count": 264,
     "metadata": {},
     "output_type": "execute_result"
    }
   ],
   "source": [
    "in_common(missing1, missing2)"
   ]
  },
  {
   "cell_type": "code",
   "execution_count": 265,
   "id": "72ca89f0",
   "metadata": {},
   "outputs": [
    {
     "data": {
      "text/plain": [
       "[[1, 1, 1, 1],\n",
       " [1, 1, 1, 2],\n",
       " [1, 1, 2, 1],\n",
       " [1, 2, 1, 1],\n",
       " [2, 1, 1, 1],\n",
       " [1, 1, 1, 3],\n",
       " [1, 1, 3, 1],\n",
       " [1, 3, 1, 1],\n",
       " [3, 1, 1, 1],\n",
       " [1, 1, 1, 4],\n",
       " [1, 1, 4, 1],\n",
       " [1, 4, 1, 1],\n",
       " [4, 1, 1, 1],\n",
       " [1, 1, 2, 2],\n",
       " [1, 2, 1, 2],\n",
       " [1, 2, 2, 1],\n",
       " [2, 1, 1, 2],\n",
       " [2, 1, 2, 1],\n",
       " [2, 2, 1, 1],\n",
       " [1, 1, 2, 3],\n",
       " [1, 1, 3, 2],\n",
       " [1, 2, 1, 3],\n",
       " [1, 2, 3, 1],\n",
       " [1, 3, 1, 2],\n",
       " [1, 3, 2, 1],\n",
       " [2, 1, 1, 3],\n",
       " [2, 1, 3, 1],\n",
       " [2, 3, 1, 1],\n",
       " [3, 1, 1, 2],\n",
       " [3, 1, 2, 1],\n",
       " [3, 2, 1, 1],\n",
       " [1, 1, 2, 4],\n",
       " [1, 1, 4, 2],\n",
       " [1, 2, 1, 4],\n",
       " [1, 2, 4, 1],\n",
       " [1, 4, 1, 2],\n",
       " [1, 4, 2, 1],\n",
       " [2, 1, 1, 4],\n",
       " [2, 1, 4, 1],\n",
       " [2, 4, 1, 1],\n",
       " [4, 1, 1, 2],\n",
       " [4, 1, 2, 1],\n",
       " [4, 2, 1, 1],\n",
       " [1, 1, 3, 3],\n",
       " [1, 3, 1, 3],\n",
       " [1, 3, 3, 1],\n",
       " [3, 1, 1, 3],\n",
       " [3, 1, 3, 1],\n",
       " [3, 3, 1, 1],\n",
       " [1, 1, 3, 4],\n",
       " [1, 1, 4, 3],\n",
       " [1, 3, 1, 4],\n",
       " [1, 3, 4, 1],\n",
       " [1, 4, 1, 3],\n",
       " [1, 4, 3, 1],\n",
       " [3, 1, 1, 4],\n",
       " [3, 1, 4, 1],\n",
       " [3, 4, 1, 1],\n",
       " [4, 1, 1, 3],\n",
       " [4, 1, 3, 1],\n",
       " [4, 3, 1, 1],\n",
       " [1, 2, 2, 2],\n",
       " [2, 1, 2, 2],\n",
       " [2, 2, 1, 2],\n",
       " [2, 2, 2, 1],\n",
       " [1, 2, 2, 3],\n",
       " [1, 2, 3, 2],\n",
       " [1, 3, 2, 2],\n",
       " [2, 1, 2, 3],\n",
       " [2, 1, 3, 2],\n",
       " [2, 2, 1, 3],\n",
       " [2, 2, 3, 1],\n",
       " [2, 3, 1, 2],\n",
       " [2, 3, 2, 1],\n",
       " [3, 1, 2, 2],\n",
       " [3, 2, 1, 2],\n",
       " [3, 2, 2, 1],\n",
       " [1, 2, 2, 4],\n",
       " [1, 2, 4, 2],\n",
       " [1, 4, 2, 2],\n",
       " [2, 1, 2, 4],\n",
       " [2, 1, 4, 2],\n",
       " [2, 2, 1, 4],\n",
       " [2, 2, 4, 1],\n",
       " [2, 4, 1, 2],\n",
       " [2, 4, 2, 1],\n",
       " [4, 1, 2, 2],\n",
       " [4, 2, 1, 2],\n",
       " [4, 2, 2, 1],\n",
       " [1, 2, 3, 3],\n",
       " [1, 3, 2, 3],\n",
       " [1, 3, 3, 2],\n",
       " [2, 1, 3, 3],\n",
       " [2, 3, 1, 3],\n",
       " [2, 3, 3, 1],\n",
       " [3, 1, 2, 3],\n",
       " [3, 1, 3, 2],\n",
       " [3, 2, 1, 3],\n",
       " [3, 2, 3, 1],\n",
       " [3, 3, 1, 2],\n",
       " [3, 3, 2, 1],\n",
       " [1, 2, 3, 4],\n",
       " [1, 2, 4, 3],\n",
       " [1, 3, 2, 4],\n",
       " [1, 3, 4, 2],\n",
       " [1, 4, 2, 3],\n",
       " [1, 4, 3, 2],\n",
       " [2, 1, 3, 4],\n",
       " [2, 1, 4, 3],\n",
       " [2, 3, 1, 4],\n",
       " [2, 3, 4, 1],\n",
       " [2, 4, 1, 3],\n",
       " [2, 4, 3, 1],\n",
       " [3, 1, 2, 4],\n",
       " [3, 1, 4, 2],\n",
       " [3, 2, 1, 4],\n",
       " [3, 2, 4, 1],\n",
       " [3, 4, 1, 2],\n",
       " [3, 4, 2, 1],\n",
       " [4, 1, 2, 3],\n",
       " [4, 1, 3, 2],\n",
       " [4, 2, 1, 3],\n",
       " [4, 2, 3, 1],\n",
       " [4, 3, 1, 2],\n",
       " [4, 3, 2, 1]]"
      ]
     },
     "execution_count": 265,
     "metadata": {},
     "output_type": "execute_result"
    }
   ],
   "source": [
    "ParkingFunctions(4).list()"
   ]
  },
  {
   "cell_type": "code",
   "execution_count": 266,
   "id": "2604340f",
   "metadata": {},
   "outputs": [
    {
     "data": {
      "text/plain": [
       "[[3, 1, 1, 3],\n",
       " [3, 1, 3, 1],\n",
       " [3, 3, 1, 1],\n",
       " [1, 3, 2, 3],\n",
       " [1, 3, 3, 2],\n",
       " [3, 1, 2, 3],\n",
       " [3, 1, 3, 2],\n",
       " [3, 2, 1, 3],\n",
       " [3, 2, 3, 1],\n",
       " [3, 3, 1, 2],\n",
       " [3, 3, 2, 1]]"
      ]
     },
     "execution_count": 266,
     "metadata": {},
     "output_type": "execute_result"
    }
   ],
   "source": [
    "#intersections:\n",
    "[x for x in missing1 if x in missing2]"
   ]
  },
  {
   "cell_type": "code",
   "execution_count": 267,
   "id": "bea7a5fd",
   "metadata": {},
   "outputs": [
    {
     "data": {
      "text/plain": [
       "[[1, 2, 1, 2],\n",
       " [1, 2, 2, 1],\n",
       " [2, 1, 1, 2],\n",
       " [2, 1, 2, 1],\n",
       " [2, 2, 1, 1],\n",
       " [2, 1, 2, 2],\n",
       " [2, 2, 1, 2],\n",
       " [2, 2, 2, 1],\n",
       " [2, 1, 2, 3],\n",
       " [2, 1, 3, 2],\n",
       " [2, 2, 1, 3],\n",
       " [2, 2, 3, 1],\n",
       " [2, 3, 1, 2],\n",
       " [2, 3, 2, 1],\n",
       " [3, 2, 1, 2],\n",
       " [3, 2, 2, 1],\n",
       " [2, 1, 2, 4],\n",
       " [2, 1, 4, 2],\n",
       " [2, 2, 1, 4],\n",
       " [2, 2, 4, 1],\n",
       " [2, 4, 1, 2],\n",
       " [2, 4, 2, 1],\n",
       " [4, 2, 1, 2],\n",
       " [4, 2, 2, 1]]"
      ]
     },
     "execution_count": 267,
     "metadata": {},
     "output_type": "execute_result"
    }
   ],
   "source": [
    "[x for x in missing1 if x in missing3]"
   ]
  },
  {
   "cell_type": "code",
   "execution_count": 268,
   "id": "426a2702",
   "metadata": {},
   "outputs": [
    {
     "data": {
      "text/plain": [
       "[[1, 1, 1, 4],\n",
       " [1, 1, 4, 1],\n",
       " [1, 4, 1, 1],\n",
       " [1, 1, 2, 4],\n",
       " [1, 1, 4, 2],\n",
       " [1, 2, 1, 4],\n",
       " [1, 2, 4, 1],\n",
       " [1, 4, 1, 2],\n",
       " [1, 4, 2, 1],\n",
       " [2, 1, 1, 4],\n",
       " [2, 1, 4, 1]]"
      ]
     },
     "execution_count": 268,
     "metadata": {},
     "output_type": "execute_result"
    }
   ],
   "source": [
    "[x for x in missing5 if x in missing3 and x in missing2]"
   ]
  },
  {
   "cell_type": "code",
   "execution_count": 269,
   "id": "72834d90",
   "metadata": {},
   "outputs": [
    {
     "data": {
      "text/plain": [
       "[[1, 1, 1, 4],\n",
       " [1, 1, 4, 1],\n",
       " [1, 4, 1, 1],\n",
       " [1, 1, 2, 4],\n",
       " [1, 1, 4, 2],\n",
       " [1, 2, 1, 4],\n",
       " [1, 2, 4, 1],\n",
       " [1, 4, 1, 2],\n",
       " [1, 4, 2, 1],\n",
       " [2, 1, 1, 4],\n",
       " [2, 1, 4, 1]]"
      ]
     },
     "execution_count": 269,
     "metadata": {},
     "output_type": "execute_result"
    }
   ],
   "source": [
    "[x for x in missing3 if x in missing2]"
   ]
  },
  {
   "cell_type": "code",
   "execution_count": 270,
   "id": "dd2047be",
   "metadata": {},
   "outputs": [
    {
     "data": {
      "text/plain": [
       "[[3, 1, 1, 3],\n",
       " [3, 1, 3, 1],\n",
       " [3, 3, 1, 1],\n",
       " [2, 1, 2, 2],\n",
       " [2, 2, 1, 2],\n",
       " [2, 2, 2, 1],\n",
       " [2, 1, 2, 3],\n",
       " [2, 1, 3, 2],\n",
       " [2, 2, 1, 3],\n",
       " [2, 2, 3, 1],\n",
       " [2, 3, 1, 2],\n",
       " [2, 3, 2, 1],\n",
       " [3, 2, 1, 2],\n",
       " [3, 2, 2, 1],\n",
       " [1, 3, 2, 3],\n",
       " [1, 3, 3, 2],\n",
       " [2, 3, 1, 3],\n",
       " [2, 3, 3, 1],\n",
       " [3, 1, 2, 3],\n",
       " [3, 1, 3, 2],\n",
       " [3, 2, 1, 3],\n",
       " [3, 2, 3, 1],\n",
       " [3, 3, 1, 2],\n",
       " [3, 3, 2, 1]]"
      ]
     },
     "execution_count": 270,
     "metadata": {},
     "output_type": "execute_result"
    }
   ],
   "source": [
    "[x for x in missing1 if x in missing4]"
   ]
  },
  {
   "cell_type": "code",
   "execution_count": 271,
   "id": "723a5f80",
   "metadata": {},
   "outputs": [
    {
     "data": {
      "text/plain": [
       "[[1, 2, 1, 2],\n",
       " [1, 2, 2, 1],\n",
       " [2, 1, 1, 2],\n",
       " [2, 1, 2, 1],\n",
       " [2, 2, 1, 1],\n",
       " [2, 1, 2, 4],\n",
       " [2, 1, 4, 2],\n",
       " [2, 2, 1, 4],\n",
       " [2, 2, 4, 1],\n",
       " [2, 4, 1, 2],\n",
       " [2, 4, 2, 1]]"
      ]
     },
     "execution_count": 271,
     "metadata": {},
     "output_type": "execute_result"
    }
   ],
   "source": [
    "[x for x in missing1 if x in missing5]"
   ]
  },
  {
   "cell_type": "code",
   "execution_count": 272,
   "id": "b0d1af44",
   "metadata": {},
   "outputs": [
    {
     "data": {
      "text/plain": [
       "[]"
      ]
     },
     "execution_count": 272,
     "metadata": {},
     "output_type": "execute_result"
    }
   ],
   "source": [
    "[x for x in missing1 if x in missing5 and x in missing4]"
   ]
  },
  {
   "cell_type": "code",
   "execution_count": 273,
   "id": "5c6157d2",
   "metadata": {},
   "outputs": [
    {
     "data": {
      "text/plain": [
       "[[1, 1, 3, 3],\n",
       " [1, 3, 1, 3],\n",
       " [1, 3, 3, 1],\n",
       " [1, 1, 3, 4],\n",
       " [1, 1, 4, 3],\n",
       " [1, 3, 1, 4],\n",
       " [1, 3, 4, 1],\n",
       " [1, 4, 1, 3],\n",
       " [1, 4, 3, 1],\n",
       " [4, 1, 1, 3],\n",
       " [4, 1, 3, 1]]"
      ]
     },
     "execution_count": 273,
     "metadata": {},
     "output_type": "execute_result"
    }
   ],
   "source": [
    "[x for x in missing4 if x in missing5]"
   ]
  },
  {
   "cell_type": "code",
   "execution_count": 274,
   "id": "3c0f2a6b",
   "metadata": {},
   "outputs": [
    {
     "data": {
      "text/plain": [
       "[[2, 1, 2, 2],\n",
       " [2, 2, 1, 2],\n",
       " [2, 2, 2, 1],\n",
       " [2, 1, 2, 3],\n",
       " [2, 1, 3, 2],\n",
       " [2, 2, 1, 3],\n",
       " [2, 2, 3, 1],\n",
       " [2, 3, 1, 2],\n",
       " [2, 3, 2, 1],\n",
       " [3, 2, 1, 2],\n",
       " [3, 2, 2, 1]]"
      ]
     },
     "execution_count": 274,
     "metadata": {},
     "output_type": "execute_result"
    }
   ],
   "source": [
    "[x for x in missing3 if x in missing4]"
   ]
  },
  {
   "cell_type": "code",
   "execution_count": 275,
   "id": "9fcdbbca",
   "metadata": {},
   "outputs": [
    {
     "data": {
      "text/plain": [
       "[[4, 3, 1, 2],\n",
       " [4, 3, 2, 1],\n",
       " [4, 3, 1, 1],\n",
       " [4, 2, 1, 3],\n",
       " [4, 2, 3, 1],\n",
       " [4, 2, 1, 1],\n",
       " [4, 2, 1, 2],\n",
       " [4, 2, 2, 1],\n",
       " [4, 1, 3, 2],\n",
       " [4, 1, 2, 3],\n",
       " [4, 1, 2, 2],\n",
       " [4, 1, 1, 2],\n",
       " [4, 1, 1, 1],\n",
       " [4, 1, 2, 1],\n",
       " [3, 4, 1, 2],\n",
       " [3, 4, 2, 1],\n",
       " [3, 4, 1, 1],\n",
       " [3, 2, 1, 1],\n",
       " [3, 2, 4, 1],\n",
       " [3, 2, 1, 4],\n",
       " [3, 2, 1, 2],\n",
       " [3, 2, 2, 1],\n",
       " [3, 1, 4, 2],\n",
       " [3, 1, 2, 2],\n",
       " [3, 1, 2, 4],\n",
       " [3, 1, 2, 1],\n",
       " [3, 1, 1, 2],\n",
       " [3, 1, 1, 1],\n",
       " [3, 1, 3, 2],\n",
       " [3, 1, 2, 3],\n",
       " [3, 2, 3, 1],\n",
       " [3, 2, 1, 3],\n",
       " [3, 3, 1, 2],\n",
       " [3, 3, 2, 1],\n",
       " [3, 3, 1, 1],\n",
       " [3, 1, 3, 1],\n",
       " [3, 1, 1, 3],\n",
       " [2, 4, 1, 3],\n",
       " [2, 4, 3, 1],\n",
       " [2, 4, 1, 1],\n",
       " [2, 3, 1, 1],\n",
       " [2, 3, 4, 1],\n",
       " [2, 3, 1, 4],\n",
       " [2, 3, 3, 1],\n",
       " [2, 3, 1, 3],\n",
       " [2, 1, 4, 3],\n",
       " [2, 1, 3, 4],\n",
       " [2, 1, 3, 3],\n",
       " [2, 1, 3, 1],\n",
       " [2, 1, 1, 3],\n",
       " [2, 1, 1, 1],\n",
       " [2, 2, 3, 1],\n",
       " [2, 2, 1, 3],\n",
       " [2, 2, 1, 2],\n",
       " [2, 2, 2, 1],\n",
       " [2, 3, 1, 2],\n",
       " [2, 3, 2, 1],\n",
       " [2, 1, 2, 2],\n",
       " [2, 1, 3, 2],\n",
       " [2, 1, 2, 3],\n",
       " [1, 4, 3, 2],\n",
       " [1, 4, 2, 3],\n",
       " [1, 4, 2, 2],\n",
       " [1, 3, 4, 2],\n",
       " [1, 3, 2, 2],\n",
       " [1, 3, 2, 4],\n",
       " [1, 3, 3, 2],\n",
       " [1, 3, 2, 3],\n",
       " [1, 2, 4, 3],\n",
       " [1, 2, 3, 4],\n",
       " [1, 2, 3, 3],\n",
       " [1, 2, 2, 2],\n",
       " [1, 2, 3, 2],\n",
       " [1, 2, 2, 3],\n",
       " [1, 1, 2, 2],\n",
       " [1, 1, 3, 2],\n",
       " [1, 1, 2, 3],\n",
       " [1, 1, 3, 1],\n",
       " [1, 1, 1, 3],\n",
       " [1, 1, 1, 2],\n",
       " [1, 1, 1, 1],\n",
       " [1, 1, 2, 1],\n",
       " [1, 3, 2, 1],\n",
       " [1, 3, 1, 2],\n",
       " [1, 3, 1, 1],\n",
       " [1, 2, 3, 1],\n",
       " [1, 2, 1, 3],\n",
       " [1, 2, 1, 1]]"
      ]
     },
     "execution_count": 275,
     "metadata": {},
     "output_type": "execute_result"
    }
   ],
   "source": [
    "pent5_pfs"
   ]
  },
  {
   "cell_type": "code",
   "execution_count": 276,
   "id": "0f036dd9",
   "metadata": {},
   "outputs": [],
   "source": [
    "all_in_common = [x for x in pent0_pfs if x in pent1_pfs and x in pent1_pfs and x in pent3_pfs and x in pent4_pfs and x in pent5_pfs]"
   ]
  },
  {
   "cell_type": "code",
   "execution_count": 277,
   "id": "3480ef42",
   "metadata": {},
   "outputs": [
    {
     "data": {
      "text/plain": [
       "60"
      ]
     },
     "execution_count": 277,
     "metadata": {},
     "output_type": "execute_result"
    }
   ],
   "source": [
    "len(all_in_common)"
   ]
  },
  {
   "cell_type": "code",
   "execution_count": 278,
   "id": "f78be1bc",
   "metadata": {},
   "outputs": [
    {
     "data": {
      "text/plain": [
       "[[4, 1, 2, 2],\n",
       " [4, 1, 3, 2],\n",
       " [4, 1, 2, 3],\n",
       " [4, 3, 1, 2],\n",
       " [4, 3, 1, 1],\n",
       " [4, 3, 2, 1],\n",
       " [4, 2, 1, 1],\n",
       " [4, 2, 1, 3],\n",
       " [4, 2, 3, 1],\n",
       " [4, 1, 2, 1],\n",
       " [4, 1, 1, 2],\n",
       " [4, 1, 1, 1],\n",
       " [3, 1, 2, 1],\n",
       " [3, 1, 1, 2],\n",
       " [3, 1, 1, 1],\n",
       " [3, 1, 4, 2],\n",
       " [3, 1, 2, 2],\n",
       " [3, 1, 2, 4],\n",
       " [3, 4, 1, 2],\n",
       " [3, 4, 1, 1],\n",
       " [3, 4, 2, 1],\n",
       " [3, 2, 1, 1],\n",
       " [3, 2, 1, 4],\n",
       " [3, 2, 4, 1],\n",
       " [2, 1, 4, 3],\n",
       " [2, 1, 3, 4],\n",
       " [2, 1, 3, 3],\n",
       " [2, 4, 1, 1],\n",
       " [2, 4, 1, 3],\n",
       " [2, 4, 3, 1],\n",
       " [2, 3, 1, 1],\n",
       " [2, 3, 1, 4],\n",
       " [2, 3, 4, 1],\n",
       " [2, 1, 1, 1],\n",
       " [2, 1, 3, 1],\n",
       " [2, 1, 1, 3],\n",
       " [1, 2, 2, 2],\n",
       " [1, 2, 3, 2],\n",
       " [1, 2, 2, 3],\n",
       " [1, 4, 2, 2],\n",
       " [1, 4, 3, 2],\n",
       " [1, 4, 2, 3],\n",
       " [1, 3, 4, 2],\n",
       " [1, 3, 2, 2],\n",
       " [1, 3, 2, 4],\n",
       " [1, 2, 4, 3],\n",
       " [1, 2, 3, 4],\n",
       " [1, 2, 3, 3],\n",
       " [1, 1, 2, 2],\n",
       " [1, 1, 3, 2],\n",
       " [1, 1, 2, 3],\n",
       " [1, 1, 2, 1],\n",
       " [1, 1, 1, 2],\n",
       " [1, 1, 1, 1],\n",
       " [1, 3, 2, 1],\n",
       " [1, 3, 1, 2],\n",
       " [1, 3, 1, 1],\n",
       " [1, 2, 1, 1],\n",
       " [1, 2, 3, 1],\n",
       " [1, 2, 1, 3]]"
      ]
     },
     "execution_count": 278,
     "metadata": {},
     "output_type": "execute_result"
    }
   ],
   "source": [
    "all_in_common"
   ]
  },
  {
   "cell_type": "code",
   "execution_count": 279,
   "id": "21dc3dca",
   "metadata": {},
   "outputs": [],
   "source": [
    "extra_1 = [x for x in pent1_pfs if x not in pent0_pfs]"
   ]
  },
  {
   "cell_type": "code",
   "execution_count": 280,
   "id": "9e3f3a97",
   "metadata": {},
   "outputs": [],
   "source": [
    "extra_2 = [x for x in pent2_pfs if x not in pent0_pfs]"
   ]
  },
  {
   "cell_type": "code",
   "execution_count": 281,
   "id": "35c48651",
   "metadata": {},
   "outputs": [],
   "source": [
    "extra_3 = [x for x in pent3_pfs if x not in pent0_pfs]"
   ]
  },
  {
   "cell_type": "code",
   "execution_count": 282,
   "id": "5d33a68d",
   "metadata": {},
   "outputs": [],
   "source": [
    "extra_4 = [x for x in pent4_pfs if x not in pent0_pfs]"
   ]
  },
  {
   "cell_type": "code",
   "execution_count": 283,
   "id": "21fb24bf",
   "metadata": {},
   "outputs": [],
   "source": [
    "extra_5 = [x for x in pent5_pfs if x not in pent0_pfs]"
   ]
  },
  {
   "cell_type": "code",
   "execution_count": 284,
   "id": "fb8e142d",
   "metadata": {},
   "outputs": [
    {
     "data": {
      "text/plain": [
       "([[4, 1, 3, 1],\n",
       "  [4, 1, 1, 3],\n",
       "  [3, 1, 1, 4],\n",
       "  [3, 1, 4, 1],\n",
       "  [2, 1, 1, 4],\n",
       "  [2, 1, 4, 1],\n",
       "  [1, 2, 4, 2],\n",
       "  [1, 2, 2, 4],\n",
       "  [1, 3, 1, 4],\n",
       "  [1, 3, 4, 1],\n",
       "  [1, 1, 3, 4],\n",
       "  [1, 1, 3, 3],\n",
       "  [1, 1, 4, 3],\n",
       "  [1, 4, 3, 1],\n",
       "  [1, 4, 1, 3],\n",
       "  [1, 3, 3, 1],\n",
       "  [1, 3, 1, 3],\n",
       "  [1, 4, 1, 2],\n",
       "  [1, 4, 1, 1],\n",
       "  [1, 4, 2, 1],\n",
       "  [1, 1, 4, 2],\n",
       "  [1, 1, 2, 4],\n",
       "  [1, 1, 1, 4],\n",
       "  [1, 1, 4, 1],\n",
       "  [1, 2, 1, 4],\n",
       "  [1, 2, 4, 1],\n",
       "  [1, 1, 3, 1],\n",
       "  [1, 1, 1, 3]],\n",
       " [[4, 2, 2, 1],\n",
       "  [4, 2, 1, 2],\n",
       "  [3, 2, 1, 2],\n",
       "  [3, 2, 2, 1],\n",
       "  [2, 3, 3, 1],\n",
       "  [2, 3, 1, 3],\n",
       "  [2, 4, 2, 1],\n",
       "  [2, 4, 1, 2],\n",
       "  [2, 1, 2, 4],\n",
       "  [2, 1, 4, 2],\n",
       "  [2, 1, 2, 1],\n",
       "  [2, 1, 1, 2],\n",
       "  [2, 2, 1, 1],\n",
       "  [2, 2, 4, 1],\n",
       "  [2, 2, 1, 4],\n",
       "  [2, 2, 3, 1],\n",
       "  [2, 2, 1, 3],\n",
       "  [2, 2, 2, 1],\n",
       "  [2, 2, 1, 2],\n",
       "  [2, 3, 1, 2],\n",
       "  [2, 3, 2, 1],\n",
       "  [2, 1, 3, 2],\n",
       "  [2, 1, 2, 3],\n",
       "  [2, 1, 2, 2],\n",
       "  [1, 2, 2, 4],\n",
       "  [1, 2, 4, 2],\n",
       "  [1, 2, 2, 1],\n",
       "  [1, 2, 1, 2]],\n",
       " [[4, 1, 1, 3],\n",
       "  [4, 1, 3, 1],\n",
       "  [3, 1, 1, 4],\n",
       "  [3, 1, 4, 1],\n",
       "  [3, 2, 3, 1],\n",
       "  [3, 2, 1, 3],\n",
       "  [3, 3, 2, 1],\n",
       "  [3, 3, 1, 1],\n",
       "  [3, 3, 1, 2],\n",
       "  [3, 1, 3, 2],\n",
       "  [3, 1, 2, 3],\n",
       "  [3, 1, 3, 1],\n",
       "  [3, 1, 1, 3],\n",
       "  [2, 3, 3, 1],\n",
       "  [2, 3, 1, 3],\n",
       "  [1, 3, 3, 2],\n",
       "  [1, 3, 2, 3],\n",
       "  [1, 1, 4, 3],\n",
       "  [1, 1, 3, 4],\n",
       "  [1, 1, 3, 3],\n",
       "  [1, 4, 1, 3],\n",
       "  [1, 4, 3, 1],\n",
       "  [1, 3, 1, 4],\n",
       "  [1, 3, 4, 1],\n",
       "  [1, 3, 3, 1],\n",
       "  [1, 3, 1, 3],\n",
       "  [1, 1, 3, 1],\n",
       "  [1, 1, 1, 3]],\n",
       " [[4, 2, 2, 1],\n",
       "  [4, 2, 1, 2],\n",
       "  [3, 1, 4, 1],\n",
       "  [3, 1, 1, 4],\n",
       "  [2, 1, 1, 4],\n",
       "  [2, 1, 4, 1],\n",
       "  [2, 4, 2, 1],\n",
       "  [2, 4, 1, 2],\n",
       "  [2, 1, 2, 4],\n",
       "  [2, 1, 4, 2],\n",
       "  [2, 1, 2, 1],\n",
       "  [2, 1, 1, 2],\n",
       "  [2, 2, 1, 1],\n",
       "  [2, 2, 4, 1],\n",
       "  [2, 2, 1, 4],\n",
       "  [1, 2, 2, 4],\n",
       "  [1, 2, 4, 2],\n",
       "  [1, 1, 2, 4],\n",
       "  [1, 1, 4, 2],\n",
       "  [1, 1, 4, 1],\n",
       "  [1, 1, 1, 4],\n",
       "  [1, 2, 1, 4],\n",
       "  [1, 2, 4, 1],\n",
       "  [1, 4, 1, 1],\n",
       "  [1, 4, 2, 1],\n",
       "  [1, 4, 1, 2],\n",
       "  [1, 2, 2, 1],\n",
       "  [1, 2, 1, 2]],\n",
       " [[4, 2, 1, 2],\n",
       "  [4, 2, 2, 1],\n",
       "  [3, 2, 1, 2],\n",
       "  [3, 2, 2, 1],\n",
       "  [3, 1, 3, 2],\n",
       "  [3, 1, 2, 3],\n",
       "  [3, 2, 3, 1],\n",
       "  [3, 2, 1, 3],\n",
       "  [3, 3, 1, 2],\n",
       "  [3, 3, 2, 1],\n",
       "  [3, 3, 1, 1],\n",
       "  [3, 1, 3, 1],\n",
       "  [3, 1, 1, 3],\n",
       "  [2, 3, 3, 1],\n",
       "  [2, 3, 1, 3],\n",
       "  [2, 2, 3, 1],\n",
       "  [2, 2, 1, 3],\n",
       "  [2, 2, 1, 2],\n",
       "  [2, 2, 2, 1],\n",
       "  [2, 3, 1, 2],\n",
       "  [2, 3, 2, 1],\n",
       "  [2, 1, 2, 2],\n",
       "  [2, 1, 3, 2],\n",
       "  [2, 1, 2, 3],\n",
       "  [1, 3, 3, 2],\n",
       "  [1, 3, 2, 3],\n",
       "  [1, 1, 3, 1],\n",
       "  [1, 1, 1, 3]])"
      ]
     },
     "execution_count": 284,
     "metadata": {},
     "output_type": "execute_result"
    }
   ],
   "source": [
    "extra_1, extra_2, extra_3, extra_4, extra_5"
   ]
  },
  {
   "cell_type": "code",
   "execution_count": 285,
   "id": "2fc37ac5",
   "metadata": {},
   "outputs": [
    {
     "data": {
      "text/plain": [
       "[[3, 1, 1, 4],\n",
       " [3, 1, 4, 1],\n",
       " [2, 1, 1, 4],\n",
       " [2, 1, 4, 1],\n",
       " [1, 2, 4, 2],\n",
       " [1, 2, 2, 4],\n",
       " [1, 4, 1, 2],\n",
       " [1, 4, 1, 1],\n",
       " [1, 4, 2, 1],\n",
       " [1, 1, 4, 2],\n",
       " [1, 1, 2, 4],\n",
       " [1, 1, 1, 4],\n",
       " [1, 1, 4, 1],\n",
       " [1, 2, 1, 4],\n",
       " [1, 2, 4, 1]]"
      ]
     },
     "execution_count": 285,
     "metadata": {},
     "output_type": "execute_result"
    }
   ],
   "source": [
    "[x for x in extra_1 if x in extra_4]\n",
    "# pentagon 1 and 4 both have the 14 edge, beyond the pfs created by the outline of the shape,\n",
    "# this 14 edge creates 15 shared pfs between the two of them.\n",
    "# does this hold for any 2 shapes with a shared triangulation edge?"
   ]
  },
  {
   "cell_type": "code",
   "execution_count": 286,
   "id": "ae7436e1",
   "metadata": {},
   "outputs": [
    {
     "data": {
      "text/plain": [
       "[[3, 2, 3, 1],\n",
       " [3, 2, 1, 3],\n",
       " [3, 3, 2, 1],\n",
       " [3, 3, 1, 1],\n",
       " [3, 3, 1, 2],\n",
       " [3, 1, 3, 2],\n",
       " [3, 1, 2, 3],\n",
       " [3, 1, 3, 1],\n",
       " [3, 1, 1, 3],\n",
       " [2, 3, 3, 1],\n",
       " [2, 3, 1, 3],\n",
       " [1, 3, 3, 2],\n",
       " [1, 3, 2, 3],\n",
       " [1, 1, 3, 1],\n",
       " [1, 1, 1, 3]]"
      ]
     },
     "execution_count": 286,
     "metadata": {},
     "output_type": "execute_result"
    }
   ],
   "source": [
    "[x for x in extra_3 if x in extra_5]"
   ]
  },
  {
   "cell_type": "code",
   "execution_count": 287,
   "id": "a1d37ec0",
   "metadata": {},
   "outputs": [
    {
     "data": {
      "text/plain": [
       "[[3, 2, 3, 1],\n",
       " [3, 2, 1, 3],\n",
       " [3, 1, 3, 1],\n",
       " [3, 1, 1, 3],\n",
       " [3, 3, 2, 1],\n",
       " [3, 3, 1, 2],\n",
       " [3, 3, 1, 1],\n",
       " [3, 1, 2, 3],\n",
       " [3, 1, 3, 2],\n",
       " [2, 3, 3, 1],\n",
       " [2, 3, 1, 3],\n",
       " [1, 3, 2, 3],\n",
       " [1, 3, 3, 2],\n",
       " [1, 1, 3, 1],\n",
       " [1, 1, 1, 3]]"
      ]
     },
     "execution_count": 287,
     "metadata": {},
     "output_type": "execute_result"
    }
   ],
   "source": [
    "[x for x in test1_pfs if x not in pent0_pfs]"
   ]
  },
  {
   "cell_type": "code",
   "execution_count": 288,
   "id": "36b99664",
   "metadata": {},
   "outputs": [],
   "source": [
    "#what about for a square? this gives us the number of pfs given by a square with no inner edges\n",
    "# c4_bond = Bond_Lattice(c4, 4)\n",
    "# c4_pfs = stanleys_bijection(c4_bond, 4)\n",
    "# c4_missing = pfs_not_included(c4_pfs, 3)\n",
    "\n",
    "\n",
    "# len(c4_pfs)\n",
    "# = 12! --> when you add an edge you get 2 more pf's "
   ]
  },
  {
   "cell_type": "markdown",
   "id": "145a24b7",
   "metadata": {},
   "source": [
    "____________________________________________________________________________________________________________\n",
    "## Building the Hexagons:"
   ]
  },
  {
   "cell_type": "code",
   "execution_count": 289,
   "id": "364b9303",
   "metadata": {},
   "outputs": [],
   "source": [
    "#what about n = 6\n",
    "#how many triangulation graphs of a hexagon are there? 42? (catalan number)\n",
    "# 9 individual inner edges to add (q: how many additional pfs do we get if we just add 1?)\n",
    "\n",
    "#the base hexagon\n",
    "hexagon0  = Graph()\n",
    "hexagon0.add_edge(1,2)\n",
    "hexagon0.add_edge(2,3)\n",
    "hexagon0.add_edge(3,4)\n",
    "hexagon0.add_edge(4,5)\n",
    "hexagon0.add_edge(5,6)\n",
    "hexagon0.add_edge(1,6)\n",
    "\n",
    "hexagon0_bond = Bond_Lattice(hexagon0, 6)\n",
    "hexagon0_pfs = stanleys_bijection(hexagon0_bond)\n",
    "\n",
    "#the hexagon with 3 triangulation edges coming out of 1\n",
    "hexagon1 = Graph()\n",
    "hexagon1.add_edge(1,2)\n",
    "hexagon1.add_edge(2,3)\n",
    "hexagon1.add_edge(3,4)\n",
    "hexagon1.add_edge(4,5)\n",
    "hexagon1.add_edge(5,6)\n",
    "hexagon1.add_edge(1,6)\n",
    "\n",
    "hexagon1.add_edge(1,5)\n",
    "hexagon1.add_edge(1,4)\n",
    "hexagon1.add_edge(1,3)\n",
    "\n",
    "hexagon1.set_pos(hexagon1.layout_circular())\n",
    "hexagon1_bond = Bond_Lattice(hexagon1, 6)\n",
    "hexagon1_pfs = stanleys_bijection(hexagon1_bond)\n",
    "# hexagon1_missing = pfs_not_included(hexagon1_pfs, 5)\n",
    "\n",
    "#the hexagon with 1 triangulation edge coming out of 1\n",
    "hexagon1_test  = Graph()\n",
    "hexagon1_test.add_edge(1,2)\n",
    "hexagon1_test.add_edge(2,3)\n",
    "hexagon1_test.add_edge(3,4)\n",
    "hexagon1_test.add_edge(4,5)\n",
    "hexagon1_test.add_edge(5,6)\n",
    "hexagon1_test.add_edge(1,6)\n",
    "\n",
    "hexagon1_test.add_edge(1,4)\n",
    "\n",
    "hexagon1_test_bond = Bond_Lattice(hexagon1_test, 6)\n",
    "hexagon1_test_pfs = stanleys_bijection(hexagon1_test_bond)\n",
    "\n",
    "#the hexagon with 3 triangulation edges coming out of 3\n",
    "hexagon3 = Graph()\n",
    "hexagon3.add_edge(1,2)\n",
    "hexagon3.add_edge(2,3)\n",
    "hexagon3.add_edge(3,4)\n",
    "hexagon3.add_edge(4,5)\n",
    "hexagon3.add_edge(5,6)\n",
    "hexagon3.add_edge(1,6)\n",
    "\n",
    "hexagon3.add_edge(3,5)\n",
    "hexagon3.add_edge(1,3)\n",
    "hexagon3.add_edge(3,6)\n",
    "\n",
    "hexagon3.set_pos(hexagon3.layout_circular())\n",
    "hexagon3_bond = Bond_Lattice(hexagon3, 6)\n",
    "hexagon3_pfs = stanleys_bijection(hexagon3_bond)\n",
    "\n",
    "\n",
    "#the hexagon with 1 triangulation edge coming out of 2 going to 5 (does not create a triangle)\n",
    "hexagon3_test  = Graph()\n",
    "hexagon3_test.add_edge(1,2)\n",
    "hexagon3_test.add_edge(2,3)\n",
    "hexagon3_test.add_edge(3,4)\n",
    "hexagon3_test.add_edge(4,5)\n",
    "hexagon3_test.add_edge(5,6)\n",
    "hexagon3_test.add_edge(1,6)\n",
    "\n",
    "hexagon3_test.add_edge(2,5)\n",
    "\n",
    "hexagon3_test_bond = Bond_Lattice(hexagon3_test, 6)\n",
    "hexagon3_test_pfs = stanleys_bijection(hexagon3_test_bond)\n",
    "\n",
    "#the hexagon with 3 triangulation edges coming out of 2\n",
    "hexagon2 = Graph()\n",
    "hexagon2.add_edge(1,2)\n",
    "hexagon2.add_edge(2,3)\n",
    "hexagon2.add_edge(3,4)\n",
    "hexagon2.add_edge(4,5)\n",
    "hexagon2.add_edge(5,6)\n",
    "hexagon2.add_edge(1,6)\n",
    "\n",
    "hexagon2.add_edge(2,5)\n",
    "hexagon2.add_edge(2,4)\n",
    "hexagon2.add_edge(2,6)\n",
    "\n",
    "hexagon2.set_pos(hexagon2.layout_circular())\n",
    "hexagon2_bond = Bond_Lattice(hexagon2, 6)\n",
    "hexagon2_pfs = stanleys_bijection(hexagon2_bond)\n",
    "\n",
    "#the hexagon with 3 triangulation edges coming out of 5\n",
    "hexagon5 = Graph()\n",
    "hexagon5.add_edge(1,2)\n",
    "hexagon5.add_edge(2,3)\n",
    "hexagon5.add_edge(3,4)\n",
    "hexagon5.add_edge(4,5)\n",
    "hexagon5.add_edge(5,6)\n",
    "hexagon5.add_edge(1,6)\n",
    "\n",
    "hexagon5.add_edge(2,5)\n",
    "hexagon5.add_edge(5,3)\n",
    "hexagon5.add_edge(5,1)\n",
    "\n",
    "hexagon5.set_pos(hexagon5.layout_circular())\n",
    "hexagon5_bond = Bond_Lattice(hexagon5, 6)\n",
    "hexagon5_pfs = stanleys_bijection(hexagon5_bond)\n",
    "\n",
    "\n",
    "#the hexagon with 1 triangulation edge coming out of 2 going to 5 (does not create a triangle)\n",
    "hexagon5_test  = Graph()\n",
    "hexagon5_test.add_edge(1,2)\n",
    "hexagon5_test.add_edge(2,3)\n",
    "hexagon5_test.add_edge(3,4)\n",
    "hexagon5_test.add_edge(4,5)\n",
    "hexagon5_test.add_edge(5,6)\n",
    "hexagon5_test.add_edge(1,6)\n",
    "\n",
    "hexagon5_test.add_edge(2,5)\n",
    "\n",
    "hexagon5_test_bond = Bond_Lattice(hexagon5_test, 6)\n",
    "hexagon5_test_pfs = stanleys_bijection(hexagon5_test_bond)\n",
    "\n",
    "#the hexagon with 3 triangulation edges coming out of 4\n",
    "hexagon4 = Graph()\n",
    "hexagon4.add_edge(1,2)\n",
    "hexagon4.add_edge(2,3)\n",
    "hexagon4.add_edge(3,4)\n",
    "hexagon4.add_edge(4,5)\n",
    "hexagon4.add_edge(5,6)\n",
    "hexagon4.add_edge(1,6)\n",
    "\n",
    "hexagon4.add_edge(1,4)\n",
    "hexagon4.add_edge(6,4)\n",
    "hexagon4.add_edge(2,4)\n",
    "\n",
    "hexagon4.set_pos(hexagon4.layout_circular())\n",
    "hexagon4_bond = Bond_Lattice(hexagon4, 6)\n",
    "hexagon4_pfs = stanleys_bijection(hexagon4_bond)\n",
    "# hexagon1_missing = pfs_not_included(hexagon1_pfs, 5)\n",
    "\n",
    "#the hexagon with 3 triangulation edges coming out of 6\n",
    "hexagon6 = Graph()\n",
    "hexagon6.add_edge(1,2)\n",
    "hexagon6.add_edge(2,3)\n",
    "hexagon6.add_edge(3,4)\n",
    "hexagon6.add_edge(4,5)\n",
    "hexagon6.add_edge(5,6)\n",
    "hexagon6.add_edge(1,6)\n",
    "\n",
    "hexagon6.add_edge(3,6)\n",
    "hexagon6.add_edge(6,4)\n",
    "hexagon6.add_edge(2,6)\n",
    "\n",
    "hexagon6.set_pos(hexagon6.layout_circular())\n",
    "hexagon6_bond = Bond_Lattice(hexagon6, 6)\n",
    "hexagon6_pfs = stanleys_bijection(hexagon6_bond)\n",
    "\n",
    "#the hexagon with 1 triangulation edge coming out of 6 going to 4 (creates a triangle)\n",
    "hexagon6_test  = Graph()\n",
    "hexagon6_test.add_edge(1,2)\n",
    "hexagon6_test.add_edge(2,3)\n",
    "hexagon6_test.add_edge(3,4)\n",
    "hexagon6_test.add_edge(4,5)\n",
    "hexagon6_test.add_edge(5,6)\n",
    "hexagon6_test.add_edge(1,6)\n",
    "\n",
    "hexagon6_test.add_edge(6,4)\n",
    "\n",
    "hexagon6_test_bond = Bond_Lattice(hexagon6_test, 6)\n",
    "hexagon6_test_pfs = stanleys_bijection(hexagon6_test_bond)"
   ]
  },
  {
   "cell_type": "markdown",
   "id": "f60c034e",
   "metadata": {},
   "source": [
    "____________________________________________________________________________________________________________\n",
    "## Hexagon Testing:"
   ]
  },
  {
   "cell_type": "code",
   "execution_count": 290,
   "id": "e69d3ec1",
   "metadata": {},
   "outputs": [
    {
     "name": "stdout",
     "output_type": "stream",
     "text": [
      "360\n",
      "334\n",
      "144\n"
     ]
    }
   ],
   "source": [
    "print(len(hexagon0_pfs)) #360 starting pfs\n",
    "print(len(hexagon1_pfs) - len(hexagon0_pfs)) #334 new pfs from 3 added edges \n",
    "                                             # (108 x 3 = 324--> 10 additional created by inner triangulations)\n",
    "print(len(hexagon1_test_pfs) - len(hexagon0_pfs)) #144 new pfs from 1 added edge"
   ]
  },
  {
   "cell_type": "code",
   "execution_count": 291,
   "id": "1dd91ea0",
   "metadata": {},
   "outputs": [
    {
     "data": {
      "text/plain": [
       "144"
      ]
     },
     "execution_count": 291,
     "metadata": {},
     "output_type": "execute_result"
    }
   ],
   "source": [
    "len([x for x in hexagon1_pfs if x in hexagon4_pfs]) - 360"
   ]
  },
  {
   "cell_type": "code",
   "execution_count": 292,
   "id": "e4305dd7",
   "metadata": {},
   "outputs": [],
   "source": [
    "hex4_hex1_incomm = [x for x in hexagon1_pfs if x in hexagon4_pfs if x not in hexagon0_pfs]\n",
    "added_1 = [x for x in hexagon1_test_pfs if x not in hexagon0_pfs]"
   ]
  },
  {
   "cell_type": "code",
   "execution_count": 293,
   "id": "797d80d6",
   "metadata": {},
   "outputs": [
    {
     "data": {
      "text/plain": [
       "[[5, 3, 1, 4, 1],\n",
       " [5, 3, 1, 1, 4],\n",
       " [5, 2, 1, 4, 1],\n",
       " [5, 2, 1, 1, 4],\n",
       " [5, 1, 2, 4, 2],\n",
       " [5, 1, 2, 2, 4],\n",
       " [5, 1, 1, 4, 2],\n",
       " [5, 1, 1, 2, 4],\n",
       " [5, 1, 1, 4, 1],\n",
       " [5, 1, 1, 1, 4],\n",
       " [5, 1, 4, 1, 2],\n",
       " [5, 1, 4, 1, 1],\n",
       " [5, 1, 4, 2, 1],\n",
       " [5, 1, 2, 4, 1],\n",
       " [5, 1, 2, 1, 4],\n",
       " [4, 1, 1, 1, 5],\n",
       " [4, 1, 1, 5, 1],\n",
       " [4, 1, 2, 1, 5],\n",
       " [4, 1, 2, 5, 1],\n",
       " [4, 1, 5, 1, 2],\n",
       " [4, 1, 5, 1, 1],\n",
       " [4, 1, 5, 2, 1],\n",
       " [4, 1, 1, 2, 5],\n",
       " [4, 1, 1, 5, 2],\n",
       " [4, 3, 1, 1, 5],\n",
       " [4, 3, 1, 5, 1],\n",
       " [4, 2, 1, 1, 5],\n",
       " [4, 2, 1, 5, 1],\n",
       " [4, 1, 2, 2, 5],\n",
       " [4, 1, 2, 5, 2],\n",
       " [3, 5, 1, 4, 1],\n",
       " [3, 5, 1, 1, 4],\n",
       " [3, 4, 1, 1, 5],\n",
       " [3, 4, 1, 5, 1],\n",
       " [3, 1, 1, 4, 1],\n",
       " [3, 1, 1, 1, 4],\n",
       " [3, 1, 4, 1, 5],\n",
       " [3, 1, 4, 5, 1],\n",
       " [3, 1, 5, 4, 1],\n",
       " [3, 1, 5, 1, 4],\n",
       " [3, 1, 1, 4, 5],\n",
       " [3, 1, 1, 5, 4],\n",
       " [3, 1, 1, 4, 4],\n",
       " [3, 1, 4, 4, 1],\n",
       " [3, 1, 4, 1, 4],\n",
       " [2, 1, 4, 1, 5],\n",
       " [2, 1, 4, 5, 1],\n",
       " [2, 1, 1, 4, 5],\n",
       " [2, 1, 1, 5, 4],\n",
       " [2, 1, 1, 4, 4],\n",
       " [2, 1, 5, 4, 1],\n",
       " [2, 1, 5, 1, 4],\n",
       " [2, 1, 4, 4, 1],\n",
       " [2, 1, 4, 1, 4],\n",
       " [2, 5, 1, 4, 1],\n",
       " [2, 5, 1, 1, 4],\n",
       " [2, 4, 1, 1, 5],\n",
       " [2, 4, 1, 5, 1],\n",
       " [2, 1, 1, 4, 1],\n",
       " [2, 1, 1, 1, 4],\n",
       " [1, 1, 2, 4, 2],\n",
       " [1, 1, 2, 2, 4],\n",
       " [1, 1, 4, 1, 2],\n",
       " [1, 1, 4, 1, 1],\n",
       " [1, 1, 4, 2, 1],\n",
       " [1, 1, 2, 4, 1],\n",
       " [1, 1, 2, 1, 4],\n",
       " [1, 1, 1, 4, 2],\n",
       " [1, 1, 1, 2, 4],\n",
       " [1, 1, 1, 4, 1],\n",
       " [1, 1, 1, 1, 4],\n",
       " [1, 3, 1, 4, 1],\n",
       " [1, 3, 1, 1, 4],\n",
       " [1, 2, 1, 4, 1],\n",
       " [1, 2, 1, 1, 4],\n",
       " [1, 2, 2, 4, 2],\n",
       " [1, 2, 2, 2, 4],\n",
       " [1, 5, 2, 4, 2],\n",
       " [1, 5, 2, 2, 4],\n",
       " [1, 4, 2, 2, 5],\n",
       " [1, 4, 2, 5, 2],\n",
       " [1, 2, 5, 4, 2],\n",
       " [1, 2, 5, 2, 4],\n",
       " [1, 2, 2, 4, 5],\n",
       " [1, 2, 2, 5, 4],\n",
       " [1, 2, 2, 4, 4],\n",
       " [1, 2, 4, 4, 2],\n",
       " [1, 2, 4, 2, 4],\n",
       " [1, 2, 4, 2, 5],\n",
       " [1, 2, 4, 5, 2],\n",
       " [1, 2, 4, 1, 5],\n",
       " [1, 2, 4, 5, 1],\n",
       " [1, 2, 1, 4, 5],\n",
       " [1, 2, 1, 5, 4],\n",
       " [1, 2, 1, 4, 4],\n",
       " [1, 2, 5, 4, 1],\n",
       " [1, 2, 5, 1, 4],\n",
       " [1, 2, 4, 4, 1],\n",
       " [1, 2, 4, 1, 4],\n",
       " [1, 4, 1, 1, 5],\n",
       " [1, 4, 1, 5, 1],\n",
       " [1, 4, 2, 1, 5],\n",
       " [1, 4, 2, 5, 1],\n",
       " [1, 4, 5, 1, 2],\n",
       " [1, 4, 5, 1, 1],\n",
       " [1, 4, 5, 2, 1],\n",
       " [1, 4, 1, 2, 5],\n",
       " [1, 4, 1, 5, 2],\n",
       " [1, 4, 4, 1, 2],\n",
       " [1, 4, 4, 1, 1],\n",
       " [1, 4, 4, 2, 1],\n",
       " [1, 4, 2, 4, 1],\n",
       " [1, 4, 2, 1, 4],\n",
       " [1, 4, 1, 4, 2],\n",
       " [1, 4, 1, 2, 4],\n",
       " [1, 4, 1, 4, 1],\n",
       " [1, 4, 1, 1, 4],\n",
       " [1, 1, 5, 4, 2],\n",
       " [1, 1, 5, 2, 4],\n",
       " [1, 1, 2, 4, 5],\n",
       " [1, 1, 2, 5, 4],\n",
       " [1, 1, 2, 4, 4],\n",
       " [1, 1, 4, 4, 2],\n",
       " [1, 1, 4, 2, 4],\n",
       " [1, 1, 4, 2, 5],\n",
       " [1, 1, 4, 5, 2],\n",
       " [1, 1, 4, 1, 5],\n",
       " [1, 1, 4, 5, 1],\n",
       " [1, 1, 5, 4, 1],\n",
       " [1, 1, 5, 1, 4],\n",
       " [1, 1, 1, 4, 5],\n",
       " [1, 1, 1, 5, 4],\n",
       " [1, 1, 1, 4, 4],\n",
       " [1, 1, 4, 4, 1],\n",
       " [1, 1, 4, 1, 4],\n",
       " [1, 5, 1, 4, 2],\n",
       " [1, 5, 1, 2, 4],\n",
       " [1, 5, 1, 4, 1],\n",
       " [1, 5, 1, 1, 4],\n",
       " [1, 5, 4, 1, 2],\n",
       " [1, 5, 4, 1, 1],\n",
       " [1, 5, 4, 2, 1],\n",
       " [1, 5, 2, 4, 1],\n",
       " [1, 5, 2, 1, 4]]"
      ]
     },
     "execution_count": 293,
     "metadata": {},
     "output_type": "execute_result"
    }
   ],
   "source": [
    "added_1"
   ]
  },
  {
   "cell_type": "code",
   "execution_count": 294,
   "id": "28fbd72c",
   "metadata": {},
   "outputs": [
    {
     "data": {
      "text/plain": [
       "144"
      ]
     },
     "execution_count": 294,
     "metadata": {},
     "output_type": "execute_result"
    }
   ],
   "source": [
    "len(hex4_hex1_incomm)"
   ]
  },
  {
   "cell_type": "code",
   "execution_count": 295,
   "id": "ada55bc7",
   "metadata": {},
   "outputs": [
    {
     "data": {
      "text/plain": [
       "144"
      ]
     },
     "execution_count": 295,
     "metadata": {},
     "output_type": "execute_result"
    }
   ],
   "source": [
    "len(added_1)"
   ]
  },
  {
   "cell_type": "code",
   "execution_count": 296,
   "id": "f2b15b57",
   "metadata": {},
   "outputs": [
    {
     "data": {
      "image/png": "[encoded data removed]",
      "text/plain": [
       "Graphics object consisting of 16 graphics primitives"
      ]
     },
     "execution_count": 296,
     "metadata": {},
     "output_type": "execute_result"
    }
   ],
   "source": [
    "hexagon1.plot()"
   ]
  },
  {
   "cell_type": "code",
   "execution_count": 297,
   "id": "e8ef73e9",
   "metadata": {},
   "outputs": [
    {
     "data": {
      "image/png": "[encoded data removed]",
      "text/plain": [
       "Graphics object consisting of 16 graphics primitives"
      ]
     },
     "execution_count": 297,
     "metadata": {},
     "output_type": "execute_result"
    }
   ],
   "source": [
    "hexagon4.plot()"
   ]
  },
  {
   "cell_type": "code",
   "execution_count": 298,
   "id": "35249902",
   "metadata": {},
   "outputs": [
    {
     "data": {
      "image/png": "[encoded data removed]",
      "text/plain": [
       "Graphics object consisting of 16 graphics primitives"
      ]
     },
     "execution_count": 298,
     "metadata": {},
     "output_type": "execute_result"
    }
   ],
   "source": [
    "hexagon6.plot()"
   ]
  },
  {
   "cell_type": "code",
   "execution_count": 299,
   "id": "3814b2b9",
   "metadata": {},
   "outputs": [],
   "source": [
    "hex4_hex6_incomm = [x for x in hexagon6_pfs if x in hexagon4_pfs if x not in hexagon0_pfs]\n",
    "added_1_64 = [x for x in hexagon6_test_pfs if x not in hexagon0_pfs]"
   ]
  },
  {
   "cell_type": "code",
   "execution_count": 300,
   "id": "49ec7a6e",
   "metadata": {},
   "outputs": [
    {
     "data": {
      "text/plain": [
       "120"
      ]
     },
     "execution_count": 300,
     "metadata": {},
     "output_type": "execute_result"
    }
   ],
   "source": [
    "len(hex4_hex6_incomm)"
   ]
  },
  {
   "cell_type": "code",
   "execution_count": 301,
   "id": "c3fc5f58",
   "metadata": {},
   "outputs": [
    {
     "data": {
      "text/plain": [
       "108"
      ]
     },
     "execution_count": 301,
     "metadata": {},
     "output_type": "execute_result"
    }
   ],
   "source": [
    "len(added_1_64)"
   ]
  },
  {
   "cell_type": "code",
   "execution_count": 302,
   "id": "6698cf68",
   "metadata": {},
   "outputs": [],
   "source": [
    "hex2_hex5_incomm = [x for x in hexagon2_pfs if x in hexagon5_pfs if x not in hexagon0_pfs]\n",
    "added_1_25 = [x for x in hexagon5_test_pfs if x not in hexagon0_pfs]"
   ]
  },
  {
   "cell_type": "code",
   "execution_count": 303,
   "id": "4200b6a0",
   "metadata": {},
   "outputs": [
    {
     "data": {
      "text/plain": [
       "144"
      ]
     },
     "execution_count": 303,
     "metadata": {},
     "output_type": "execute_result"
    }
   ],
   "source": [
    "len(hex2_hex5_incomm)"
   ]
  },
  {
   "cell_type": "code",
   "execution_count": 304,
   "id": "c6bf6e0e",
   "metadata": {},
   "outputs": [
    {
     "data": {
      "text/plain": [
       "144"
      ]
     },
     "execution_count": 304,
     "metadata": {},
     "output_type": "execute_result"
    }
   ],
   "source": [
    "len(added_1_25)"
   ]
  },
  {
   "cell_type": "code",
   "execution_count": 305,
   "id": "d3bd23e1",
   "metadata": {},
   "outputs": [
    {
     "data": {
      "text/plain": [
       "[[5, 4, 2, 1, 2],\n",
       " [5, 4, 2, 2, 1],\n",
       " [5, 3, 2, 1, 2],\n",
       " [5, 3, 2, 2, 1],\n",
       " [5, 2, 3, 1, 3],\n",
       " [5, 2, 3, 3, 1],\n",
       " [5, 2, 1, 2, 3],\n",
       " [5, 2, 1, 2, 2],\n",
       " [5, 2, 1, 3, 2],\n",
       " [5, 2, 2, 1, 3],\n",
       " [5, 2, 2, 3, 1],\n",
       " [5, 2, 2, 1, 2],\n",
       " [5, 2, 2, 2, 1],\n",
       " [5, 2, 3, 1, 2],\n",
       " [5, 2, 3, 2, 1],\n",
       " [4, 5, 2, 1, 2],\n",
       " [4, 5, 2, 2, 1],\n",
       " [4, 1, 2, 2, 1],\n",
       " [4, 1, 2, 1, 2],\n",
       " [4, 2, 1, 2, 5],\n",
       " [4, 2, 1, 5, 2],\n",
       " [4, 2, 2, 1, 1],\n",
       " [4, 2, 2, 1, 5],\n",
       " [4, 2, 2, 5, 1],\n",
       " [4, 2, 1, 2, 1],\n",
       " [4, 2, 1, 1, 2],\n",
       " [4, 2, 5, 1, 2],\n",
       " [4, 2, 5, 2, 1],\n",
       " [4, 1, 2, 2, 5],\n",
       " [4, 1, 2, 5, 2],\n",
       " [3, 5, 2, 1, 2],\n",
       " [3, 5, 2, 2, 1],\n",
       " [3, 2, 1, 2, 5],\n",
       " [3, 2, 1, 5, 2],\n",
       " [3, 2, 2, 1, 1],\n",
       " [3, 2, 2, 1, 5],\n",
       " [3, 2, 2, 5, 1],\n",
       " [3, 2, 5, 1, 2],\n",
       " [3, 2, 5, 2, 1],\n",
       " [3, 2, 1, 2, 1],\n",
       " [3, 2, 1, 1, 2],\n",
       " [3, 1, 2, 2, 1],\n",
       " [3, 1, 2, 1, 2],\n",
       " [3, 1, 2, 2, 5],\n",
       " [3, 1, 2, 5, 2],\n",
       " [2, 1, 3, 3, 5],\n",
       " [2, 1, 3, 5, 3],\n",
       " [2, 5, 3, 1, 3],\n",
       " [2, 5, 3, 3, 1],\n",
       " [2, 3, 3, 1, 1],\n",
       " [2, 3, 3, 1, 5],\n",
       " [2, 3, 3, 5, 1],\n",
       " [2, 3, 5, 1, 3],\n",
       " [2, 3, 5, 3, 1],\n",
       " [2, 3, 1, 3, 1],\n",
       " [2, 3, 1, 1, 3],\n",
       " [2, 3, 1, 3, 5],\n",
       " [2, 3, 1, 5, 3],\n",
       " [2, 1, 3, 3, 1],\n",
       " [2, 1, 3, 1, 3],\n",
       " [1, 2, 1, 2, 3],\n",
       " [1, 2, 1, 2, 2],\n",
       " [1, 2, 1, 3, 2],\n",
       " [1, 2, 2, 3, 1],\n",
       " [1, 2, 2, 1, 3],\n",
       " [1, 2, 2, 2, 1],\n",
       " [1, 2, 2, 1, 2],\n",
       " [1, 2, 3, 2, 1],\n",
       " [1, 2, 3, 1, 2],\n",
       " [1, 4, 2, 2, 1],\n",
       " [1, 4, 2, 1, 2],\n",
       " [1, 3, 2, 2, 1],\n",
       " [1, 3, 2, 1, 2],\n",
       " [1, 2, 3, 3, 1],\n",
       " [1, 2, 3, 1, 3],\n",
       " [2, 1, 1, 2, 3],\n",
       " [2, 1, 1, 2, 2],\n",
       " [2, 1, 1, 3, 2],\n",
       " [2, 1, 2, 3, 1],\n",
       " [2, 1, 2, 1, 3],\n",
       " [2, 1, 2, 2, 1],\n",
       " [2, 1, 2, 1, 2],\n",
       " [2, 1, 3, 2, 1],\n",
       " [2, 1, 3, 1, 2],\n",
       " [2, 1, 2, 2, 5],\n",
       " [2, 1, 2, 5, 2],\n",
       " [2, 1, 3, 2, 5],\n",
       " [2, 1, 3, 5, 2],\n",
       " [2, 1, 5, 2, 3],\n",
       " [2, 1, 5, 2, 2],\n",
       " [2, 1, 5, 3, 2],\n",
       " [2, 1, 2, 3, 5],\n",
       " [2, 1, 2, 5, 3],\n",
       " [2, 2, 3, 1, 1],\n",
       " [2, 2, 3, 1, 5],\n",
       " [2, 2, 3, 5, 1],\n",
       " [2, 2, 5, 1, 3],\n",
       " [2, 2, 5, 3, 1],\n",
       " [2, 2, 1, 3, 1],\n",
       " [2, 2, 1, 1, 3],\n",
       " [2, 2, 1, 3, 5],\n",
       " [2, 2, 1, 5, 3],\n",
       " [2, 2, 1, 2, 5],\n",
       " [2, 2, 1, 5, 2],\n",
       " [2, 2, 2, 1, 1],\n",
       " [2, 2, 2, 1, 5],\n",
       " [2, 2, 2, 5, 1],\n",
       " [2, 2, 1, 2, 1],\n",
       " [2, 2, 1, 1, 2],\n",
       " [2, 2, 5, 1, 2],\n",
       " [2, 2, 5, 2, 1],\n",
       " [2, 3, 1, 2, 5],\n",
       " [2, 3, 1, 5, 2],\n",
       " [2, 3, 2, 1, 1],\n",
       " [2, 3, 2, 1, 5],\n",
       " [2, 3, 2, 5, 1],\n",
       " [2, 3, 5, 1, 2],\n",
       " [2, 3, 5, 2, 1],\n",
       " [2, 3, 1, 2, 1],\n",
       " [2, 3, 1, 1, 2],\n",
       " [2, 5, 1, 2, 3],\n",
       " [2, 5, 1, 2, 2],\n",
       " [2, 5, 1, 3, 2],\n",
       " [2, 5, 2, 1, 3],\n",
       " [2, 5, 2, 3, 1],\n",
       " [2, 5, 2, 1, 2],\n",
       " [2, 5, 2, 2, 1],\n",
       " [2, 5, 3, 1, 2],\n",
       " [2, 5, 3, 2, 1],\n",
       " [1, 2, 3, 3, 5],\n",
       " [1, 2, 3, 5, 3],\n",
       " [1, 2, 2, 2, 5],\n",
       " [1, 2, 2, 5, 2],\n",
       " [1, 2, 3, 2, 5],\n",
       " [1, 2, 3, 5, 2],\n",
       " [1, 2, 5, 2, 3],\n",
       " [1, 2, 5, 2, 2],\n",
       " [1, 2, 5, 3, 2],\n",
       " [1, 2, 2, 3, 5],\n",
       " [1, 2, 2, 5, 3],\n",
       " [1, 4, 2, 2, 5],\n",
       " [1, 4, 2, 5, 2],\n",
       " [1, 3, 2, 2, 5],\n",
       " [1, 3, 2, 5, 2]]"
      ]
     },
     "execution_count": 305,
     "metadata": {},
     "output_type": "execute_result"
    }
   ],
   "source": [
    "added_1_25"
   ]
  },
  {
   "cell_type": "code",
   "execution_count": 306,
   "id": "be1ffb67",
   "metadata": {},
   "outputs": [],
   "source": [
    "hex3_hex6_incomm = [x for x in hexagon3_pfs if x in hexagon6_pfs if x not in hexagon0_pfs]\n",
    "added_1_36 = [x for x in hexagon3_test_pfs if x not in hexagon0_pfs]"
   ]
  },
  {
   "cell_type": "code",
   "execution_count": 307,
   "id": "dc814ec8",
   "metadata": {},
   "outputs": [
    {
     "data": {
      "text/plain": [
       "144"
      ]
     },
     "execution_count": 307,
     "metadata": {},
     "output_type": "execute_result"
    }
   ],
   "source": [
    "len(hex3_hex6_incomm)"
   ]
  },
  {
   "cell_type": "code",
   "execution_count": 308,
   "id": "c8d5ae92",
   "metadata": {},
   "outputs": [
    {
     "data": {
      "text/plain": [
       "144"
      ]
     },
     "execution_count": 308,
     "metadata": {},
     "output_type": "execute_result"
    }
   ],
   "source": [
    "len(added_1_36)"
   ]
  },
  {
   "cell_type": "code",
   "execution_count": 309,
   "id": "c6cd9188",
   "metadata": {},
   "outputs": [
    {
     "data": {
      "text/plain": [
       "[[5, 4, 2, 1, 2],\n",
       " [5, 4, 2, 2, 1],\n",
       " [5, 3, 2, 1, 2],\n",
       " [5, 3, 2, 2, 1],\n",
       " [5, 2, 3, 1, 3],\n",
       " [5, 2, 3, 3, 1],\n",
       " [5, 2, 1, 2, 3],\n",
       " [5, 2, 1, 2, 2],\n",
       " [5, 2, 1, 3, 2],\n",
       " [5, 2, 2, 1, 3],\n",
       " [5, 2, 2, 3, 1],\n",
       " [5, 2, 2, 1, 2],\n",
       " [5, 2, 2, 2, 1],\n",
       " [5, 2, 3, 1, 2],\n",
       " [5, 2, 3, 2, 1],\n",
       " [4, 5, 2, 1, 2],\n",
       " [4, 5, 2, 2, 1],\n",
       " [4, 1, 2, 2, 1],\n",
       " [4, 1, 2, 1, 2],\n",
       " [4, 2, 1, 2, 5],\n",
       " [4, 2, 1, 5, 2],\n",
       " [4, 2, 2, 1, 1],\n",
       " [4, 2, 2, 1, 5],\n",
       " [4, 2, 2, 5, 1],\n",
       " [4, 2, 1, 2, 1],\n",
       " [4, 2, 1, 1, 2],\n",
       " [4, 2, 5, 1, 2],\n",
       " [4, 2, 5, 2, 1],\n",
       " [4, 1, 2, 2, 5],\n",
       " [4, 1, 2, 5, 2],\n",
       " [3, 5, 2, 1, 2],\n",
       " [3, 5, 2, 2, 1],\n",
       " [3, 2, 1, 2, 5],\n",
       " [3, 2, 1, 5, 2],\n",
       " [3, 2, 2, 1, 1],\n",
       " [3, 2, 2, 1, 5],\n",
       " [3, 2, 2, 5, 1],\n",
       " [3, 2, 5, 1, 2],\n",
       " [3, 2, 5, 2, 1],\n",
       " [3, 2, 1, 2, 1],\n",
       " [3, 2, 1, 1, 2],\n",
       " [3, 1, 2, 2, 1],\n",
       " [3, 1, 2, 1, 2],\n",
       " [3, 1, 2, 2, 5],\n",
       " [3, 1, 2, 5, 2],\n",
       " [2, 1, 3, 3, 5],\n",
       " [2, 1, 3, 5, 3],\n",
       " [2, 5, 3, 1, 3],\n",
       " [2, 5, 3, 3, 1],\n",
       " [2, 3, 3, 1, 1],\n",
       " [2, 3, 3, 1, 5],\n",
       " [2, 3, 3, 5, 1],\n",
       " [2, 3, 5, 1, 3],\n",
       " [2, 3, 5, 3, 1],\n",
       " [2, 3, 1, 3, 1],\n",
       " [2, 3, 1, 1, 3],\n",
       " [2, 3, 1, 3, 5],\n",
       " [2, 3, 1, 5, 3],\n",
       " [2, 1, 3, 3, 1],\n",
       " [2, 1, 3, 1, 3],\n",
       " [1, 2, 1, 2, 3],\n",
       " [1, 2, 1, 2, 2],\n",
       " [1, 2, 1, 3, 2],\n",
       " [1, 2, 2, 3, 1],\n",
       " [1, 2, 2, 1, 3],\n",
       " [1, 2, 2, 2, 1],\n",
       " [1, 2, 2, 1, 2],\n",
       " [1, 2, 3, 2, 1],\n",
       " [1, 2, 3, 1, 2],\n",
       " [1, 4, 2, 2, 1],\n",
       " [1, 4, 2, 1, 2],\n",
       " [1, 3, 2, 2, 1],\n",
       " [1, 3, 2, 1, 2],\n",
       " [1, 2, 3, 3, 1],\n",
       " [1, 2, 3, 1, 3],\n",
       " [2, 1, 1, 2, 3],\n",
       " [2, 1, 1, 2, 2],\n",
       " [2, 1, 1, 3, 2],\n",
       " [2, 1, 2, 3, 1],\n",
       " [2, 1, 2, 1, 3],\n",
       " [2, 1, 2, 2, 1],\n",
       " [2, 1, 2, 1, 2],\n",
       " [2, 1, 3, 2, 1],\n",
       " [2, 1, 3, 1, 2],\n",
       " [2, 1, 2, 2, 5],\n",
       " [2, 1, 2, 5, 2],\n",
       " [2, 1, 3, 2, 5],\n",
       " [2, 1, 3, 5, 2],\n",
       " [2, 1, 5, 2, 3],\n",
       " [2, 1, 5, 2, 2],\n",
       " [2, 1, 5, 3, 2],\n",
       " [2, 1, 2, 3, 5],\n",
       " [2, 1, 2, 5, 3],\n",
       " [2, 2, 3, 1, 1],\n",
       " [2, 2, 3, 1, 5],\n",
       " [2, 2, 3, 5, 1],\n",
       " [2, 2, 5, 1, 3],\n",
       " [2, 2, 5, 3, 1],\n",
       " [2, 2, 1, 3, 1],\n",
       " [2, 2, 1, 1, 3],\n",
       " [2, 2, 1, 3, 5],\n",
       " [2, 2, 1, 5, 3],\n",
       " [2, 2, 1, 2, 5],\n",
       " [2, 2, 1, 5, 2],\n",
       " [2, 2, 2, 1, 1],\n",
       " [2, 2, 2, 1, 5],\n",
       " [2, 2, 2, 5, 1],\n",
       " [2, 2, 1, 2, 1],\n",
       " [2, 2, 1, 1, 2],\n",
       " [2, 2, 5, 1, 2],\n",
       " [2, 2, 5, 2, 1],\n",
       " [2, 3, 1, 2, 5],\n",
       " [2, 3, 1, 5, 2],\n",
       " [2, 3, 2, 1, 1],\n",
       " [2, 3, 2, 1, 5],\n",
       " [2, 3, 2, 5, 1],\n",
       " [2, 3, 5, 1, 2],\n",
       " [2, 3, 5, 2, 1],\n",
       " [2, 3, 1, 2, 1],\n",
       " [2, 3, 1, 1, 2],\n",
       " [2, 5, 1, 2, 3],\n",
       " [2, 5, 1, 2, 2],\n",
       " [2, 5, 1, 3, 2],\n",
       " [2, 5, 2, 1, 3],\n",
       " [2, 5, 2, 3, 1],\n",
       " [2, 5, 2, 1, 2],\n",
       " [2, 5, 2, 2, 1],\n",
       " [2, 5, 3, 1, 2],\n",
       " [2, 5, 3, 2, 1],\n",
       " [1, 2, 3, 3, 5],\n",
       " [1, 2, 3, 5, 3],\n",
       " [1, 2, 2, 2, 5],\n",
       " [1, 2, 2, 5, 2],\n",
       " [1, 2, 3, 2, 5],\n",
       " [1, 2, 3, 5, 2],\n",
       " [1, 2, 5, 2, 3],\n",
       " [1, 2, 5, 2, 2],\n",
       " [1, 2, 5, 3, 2],\n",
       " [1, 2, 2, 3, 5],\n",
       " [1, 2, 2, 5, 3],\n",
       " [1, 4, 2, 2, 5],\n",
       " [1, 4, 2, 5, 2],\n",
       " [1, 3, 2, 2, 5],\n",
       " [1, 3, 2, 5, 2]]"
      ]
     },
     "execution_count": 309,
     "metadata": {},
     "output_type": "execute_result"
    }
   ],
   "source": [
    "added_1_36"
   ]
  },
  {
   "cell_type": "code",
   "execution_count": 310,
   "id": "c6d269c8",
   "metadata": {},
   "outputs": [
    {
     "data": {
      "text/plain": [
       "[[5, 2, 3, 3, 1], [5, 2, 3, 1, 3], [2, 5, 3, 3, 1], [2, 5, 3, 1, 3]]"
      ]
     },
     "execution_count": 310,
     "metadata": {},
     "output_type": "execute_result"
    }
   ],
   "source": [
    "in_common(hex3_hex6_incomm, added_1_36)"
   ]
  },
  {
   "cell_type": "code",
   "execution_count": 311,
   "id": "09b5408b",
   "metadata": {},
   "outputs": [
    {
     "data": {
      "text/plain": [
       "[[5, 1, 2, 1, 3],\n",
       " [5, 1, 2, 1, 1],\n",
       " [5, 1, 2, 3, 1],\n",
       " [5, 1, 3, 1, 2],\n",
       " [5, 1, 3, 1, 1],\n",
       " [5, 1, 3, 2, 1],\n",
       " [5, 1, 1, 2, 3],\n",
       " [5, 1, 1, 3, 2],\n",
       " [5, 1, 1, 2, 2],\n",
       " [5, 1, 1, 2, 1],\n",
       " [5, 1, 1, 1, 1],\n",
       " [5, 1, 1, 1, 2],\n",
       " [5, 4, 1, 2, 3],\n",
       " [5, 4, 1, 2, 2],\n",
       " [5, 4, 1, 3, 2],\n",
       " [5, 4, 2, 1, 3],\n",
       " [5, 4, 2, 1, 1],\n",
       " [5, 4, 2, 3, 1],\n",
       " [5, 4, 1, 2, 1],\n",
       " [5, 4, 1, 1, 1],\n",
       " [5, 4, 1, 1, 2],\n",
       " [5, 4, 3, 1, 2],\n",
       " [5, 4, 3, 1, 1],\n",
       " [5, 4, 3, 2, 1],\n",
       " [5, 3, 1, 1, 2],\n",
       " [5, 3, 1, 1, 1],\n",
       " [5, 3, 1, 2, 1],\n",
       " [5, 3, 1, 2, 2],\n",
       " [5, 3, 1, 2, 4],\n",
       " [5, 3, 1, 4, 2],\n",
       " [5, 3, 2, 1, 1],\n",
       " [5, 3, 2, 1, 4],\n",
       " [5, 3, 2, 4, 1],\n",
       " [5, 3, 4, 1, 2],\n",
       " [5, 3, 4, 1, 1],\n",
       " [5, 3, 4, 2, 1],\n",
       " [5, 2, 1, 1, 3],\n",
       " [5, 2, 1, 1, 1],\n",
       " [5, 2, 1, 3, 1],\n",
       " [5, 2, 1, 3, 3],\n",
       " [5, 2, 1, 4, 3],\n",
       " [5, 2, 1, 3, 4],\n",
       " [5, 2, 4, 1, 3],\n",
       " [5, 2, 4, 1, 1],\n",
       " [5, 2, 4, 3, 1],\n",
       " [5, 2, 3, 1, 1],\n",
       " [5, 2, 3, 1, 4],\n",
       " [5, 2, 3, 4, 1],\n",
       " [5, 1, 2, 3, 3],\n",
       " [5, 1, 2, 4, 3],\n",
       " [5, 1, 2, 3, 4],\n",
       " [5, 1, 2, 2, 3],\n",
       " [5, 1, 2, 3, 2],\n",
       " [5, 1, 2, 2, 2],\n",
       " [5, 1, 4, 2, 3],\n",
       " [5, 1, 4, 2, 2],\n",
       " [5, 1, 4, 3, 2],\n",
       " [5, 1, 3, 2, 2],\n",
       " [5, 1, 3, 2, 4],\n",
       " [5, 1, 3, 4, 2],\n",
       " [4, 1, 2, 3, 1],\n",
       " [4, 1, 2, 1, 3],\n",
       " [4, 1, 2, 1, 1],\n",
       " [4, 1, 3, 2, 1],\n",
       " [4, 1, 3, 1, 2],\n",
       " [4, 1, 3, 1, 1],\n",
       " [4, 1, 1, 2, 3],\n",
       " [4, 1, 1, 3, 2],\n",
       " [4, 1, 1, 2, 2],\n",
       " [4, 1, 1, 2, 1],\n",
       " [4, 1, 1, 1, 1],\n",
       " [4, 1, 1, 1, 2],\n",
       " [4, 5, 1, 2, 3],\n",
       " [4, 5, 1, 2, 2],\n",
       " [4, 5, 1, 3, 2],\n",
       " [4, 5, 2, 1, 3],\n",
       " [4, 5, 2, 1, 1],\n",
       " [4, 5, 2, 3, 1],\n",
       " [4, 5, 1, 2, 1],\n",
       " [4, 5, 1, 1, 1],\n",
       " [4, 5, 1, 1, 2],\n",
       " [4, 5, 3, 1, 2],\n",
       " [4, 5, 3, 1, 1],\n",
       " [4, 5, 3, 2, 1],\n",
       " [4, 3, 1, 2, 1],\n",
       " [4, 3, 1, 1, 2],\n",
       " [4, 3, 1, 1, 1],\n",
       " [4, 3, 1, 2, 2],\n",
       " [4, 3, 1, 2, 5],\n",
       " [4, 3, 1, 5, 2],\n",
       " [4, 3, 2, 1, 1],\n",
       " [4, 3, 2, 1, 5],\n",
       " [4, 3, 2, 5, 1],\n",
       " [4, 3, 5, 1, 2],\n",
       " [4, 3, 5, 1, 1],\n",
       " [4, 3, 5, 2, 1],\n",
       " [4, 2, 1, 3, 3],\n",
       " [4, 2, 1, 5, 3],\n",
       " [4, 2, 1, 3, 5],\n",
       " [4, 2, 5, 1, 3],\n",
       " [4, 2, 5, 1, 1],\n",
       " [4, 2, 5, 3, 1],\n",
       " [4, 2, 1, 3, 1],\n",
       " [4, 2, 1, 1, 3],\n",
       " [4, 2, 1, 1, 1],\n",
       " [4, 2, 3, 1, 1],\n",
       " [4, 2, 3, 1, 5],\n",
       " [4, 2, 3, 5, 1],\n",
       " [4, 1, 2, 3, 3],\n",
       " [4, 1, 2, 5, 3],\n",
       " [4, 1, 2, 3, 5],\n",
       " [4, 1, 5, 2, 3],\n",
       " [4, 1, 5, 2, 2],\n",
       " [4, 1, 5, 3, 2],\n",
       " [4, 1, 2, 2, 3],\n",
       " [4, 1, 2, 3, 2],\n",
       " [4, 1, 2, 2, 2],\n",
       " [4, 1, 3, 2, 2],\n",
       " [4, 1, 3, 2, 5],\n",
       " [4, 1, 3, 5, 2],\n",
       " [3, 5, 1, 1, 2],\n",
       " [3, 5, 1, 1, 1],\n",
       " [3, 5, 1, 2, 1],\n",
       " [3, 5, 1, 2, 2],\n",
       " [3, 5, 1, 2, 4],\n",
       " [3, 5, 1, 4, 2],\n",
       " [3, 5, 2, 1, 1],\n",
       " [3, 5, 2, 1, 4],\n",
       " [3, 5, 2, 4, 1],\n",
       " [3, 5, 4, 1, 2],\n",
       " [3, 5, 4, 1, 1],\n",
       " [3, 5, 4, 2, 1],\n",
       " [3, 4, 1, 2, 1],\n",
       " [3, 4, 1, 1, 2],\n",
       " [3, 4, 1, 1, 1],\n",
       " [3, 4, 1, 2, 2],\n",
       " [3, 4, 1, 2, 5],\n",
       " [3, 4, 1, 5, 2],\n",
       " [3, 4, 2, 1, 1],\n",
       " [3, 4, 2, 1, 5],\n",
       " [3, 4, 2, 5, 1],\n",
       " [3, 4, 5, 1, 2],\n",
       " [3, 4, 5, 1, 1],\n",
       " [3, 4, 5, 2, 1],\n",
       " [3, 1, 1, 2, 2],\n",
       " [3, 1, 1, 4, 2],\n",
       " [3, 1, 1, 2, 4],\n",
       " [3, 1, 1, 1, 2],\n",
       " [3, 1, 1, 1, 1],\n",
       " [3, 1, 1, 2, 1],\n",
       " [3, 1, 4, 2, 1],\n",
       " [3, 1, 4, 1, 2],\n",
       " [3, 1, 4, 1, 1],\n",
       " [3, 1, 2, 4, 1],\n",
       " [3, 1, 2, 1, 4],\n",
       " [3, 1, 2, 1, 1],\n",
       " [3, 2, 1, 4, 1],\n",
       " [3, 2, 1, 1, 4],\n",
       " [3, 2, 1, 1, 1],\n",
       " [3, 2, 1, 4, 4],\n",
       " [3, 2, 1, 5, 4],\n",
       " [3, 2, 1, 4, 5],\n",
       " [3, 2, 5, 1, 1],\n",
       " [3, 2, 5, 1, 4],\n",
       " [3, 2, 5, 4, 1],\n",
       " [3, 2, 4, 1, 1],\n",
       " [3, 2, 4, 1, 5],\n",
       " [3, 2, 4, 5, 1],\n",
       " [3, 1, 2, 2, 2],\n",
       " [3, 1, 2, 4, 2],\n",
       " [3, 1, 2, 2, 4],\n",
       " [3, 1, 2, 4, 4],\n",
       " [3, 1, 2, 5, 4],\n",
       " [3, 1, 2, 4, 5],\n",
       " [3, 1, 5, 2, 2],\n",
       " [3, 1, 5, 2, 4],\n",
       " [3, 1, 5, 4, 2],\n",
       " [3, 1, 4, 2, 2],\n",
       " [3, 1, 4, 2, 5],\n",
       " [3, 1, 4, 5, 2],\n",
       " [2, 5, 1, 1, 3],\n",
       " [2, 5, 1, 1, 1],\n",
       " [2, 5, 1, 3, 1],\n",
       " [2, 5, 1, 3, 3],\n",
       " [2, 5, 1, 4, 3],\n",
       " [2, 5, 1, 3, 4],\n",
       " [2, 5, 4, 1, 3],\n",
       " [2, 5, 4, 1, 1],\n",
       " [2, 5, 4, 3, 1],\n",
       " [2, 5, 3, 1, 1],\n",
       " [2, 5, 3, 1, 4],\n",
       " [2, 5, 3, 4, 1],\n",
       " [2, 4, 1, 3, 3],\n",
       " [2, 4, 1, 5, 3],\n",
       " [2, 4, 1, 3, 5],\n",
       " [2, 4, 5, 1, 3],\n",
       " [2, 4, 5, 1, 1],\n",
       " [2, 4, 5, 3, 1],\n",
       " [2, 4, 1, 3, 1],\n",
       " [2, 4, 1, 1, 3],\n",
       " [2, 4, 1, 1, 1],\n",
       " [2, 4, 3, 1, 1],\n",
       " [2, 4, 3, 1, 5],\n",
       " [2, 4, 3, 5, 1],\n",
       " [2, 3, 1, 4, 1],\n",
       " [2, 3, 1, 1, 4],\n",
       " [2, 3, 1, 1, 1],\n",
       " [2, 3, 1, 4, 4],\n",
       " [2, 3, 1, 5, 4],\n",
       " [2, 3, 1, 4, 5],\n",
       " [2, 3, 5, 1, 1],\n",
       " [2, 3, 5, 1, 4],\n",
       " [2, 3, 5, 4, 1],\n",
       " [2, 3, 4, 1, 1],\n",
       " [2, 3, 4, 1, 5],\n",
       " [2, 3, 4, 5, 1],\n",
       " [2, 1, 1, 1, 3],\n",
       " [2, 1, 1, 1, 1],\n",
       " [2, 1, 1, 3, 1],\n",
       " [2, 1, 4, 3, 1],\n",
       " [2, 1, 4, 1, 3],\n",
       " [2, 1, 4, 1, 1],\n",
       " [2, 1, 3, 4, 1],\n",
       " [2, 1, 3, 1, 4],\n",
       " [2, 1, 3, 1, 1],\n",
       " [2, 1, 1, 3, 3],\n",
       " [2, 1, 1, 4, 3],\n",
       " [2, 1, 1, 3, 4],\n",
       " [2, 1, 5, 3, 3],\n",
       " [2, 1, 5, 4, 3],\n",
       " [2, 1, 5, 3, 4],\n",
       " [2, 1, 4, 3, 3],\n",
       " [2, 1, 4, 5, 3],\n",
       " [2, 1, 4, 3, 5],\n",
       " [2, 1, 3, 4, 4],\n",
       " [2, 1, 3, 5, 4],\n",
       " [2, 1, 3, 4, 5],\n",
       " [2, 1, 3, 3, 3],\n",
       " [2, 1, 3, 4, 3],\n",
       " [2, 1, 3, 3, 4],\n",
       " [1, 2, 3, 2, 2],\n",
       " [1, 2, 3, 4, 2],\n",
       " [1, 2, 3, 2, 4],\n",
       " [1, 2, 2, 2, 3],\n",
       " [1, 2, 2, 3, 2],\n",
       " [1, 2, 2, 2, 2],\n",
       " [1, 2, 4, 2, 3],\n",
       " [1, 2, 4, 3, 2],\n",
       " [1, 2, 4, 2, 2],\n",
       " [1, 2, 2, 3, 3],\n",
       " [1, 2, 2, 4, 3],\n",
       " [1, 2, 2, 3, 4],\n",
       " [1, 5, 2, 3, 3],\n",
       " [1, 5, 2, 4, 3],\n",
       " [1, 5, 2, 3, 4],\n",
       " [1, 5, 2, 2, 3],\n",
       " [1, 5, 2, 3, 2],\n",
       " [1, 5, 2, 2, 2],\n",
       " [1, 5, 4, 2, 3],\n",
       " [1, 5, 4, 2, 2],\n",
       " [1, 5, 4, 3, 2],\n",
       " [1, 5, 3, 2, 2],\n",
       " [1, 5, 3, 2, 4],\n",
       " [1, 5, 3, 4, 2],\n",
       " [1, 4, 2, 3, 3],\n",
       " [1, 4, 2, 5, 3],\n",
       " [1, 4, 2, 3, 5],\n",
       " [1, 4, 5, 2, 3],\n",
       " [1, 4, 5, 2, 2],\n",
       " [1, 4, 5, 3, 2],\n",
       " [1, 4, 2, 2, 3],\n",
       " [1, 4, 2, 3, 2],\n",
       " [1, 4, 2, 2, 2],\n",
       " [1, 4, 3, 2, 2],\n",
       " [1, 4, 3, 2, 5],\n",
       " [1, 4, 3, 5, 2],\n",
       " [1, 3, 2, 2, 2],\n",
       " [1, 3, 2, 4, 2],\n",
       " [1, 3, 2, 2, 4],\n",
       " [1, 3, 2, 4, 4],\n",
       " [1, 3, 2, 5, 4],\n",
       " [1, 3, 2, 4, 5],\n",
       " [1, 3, 5, 2, 2],\n",
       " [1, 3, 5, 2, 4],\n",
       " [1, 3, 5, 4, 2],\n",
       " [1, 3, 4, 2, 2],\n",
       " [1, 3, 4, 2, 5],\n",
       " [1, 3, 4, 5, 2],\n",
       " [1, 2, 5, 3, 3],\n",
       " [1, 2, 5, 4, 3],\n",
       " [1, 2, 5, 3, 4],\n",
       " [1, 2, 4, 3, 3],\n",
       " [1, 2, 4, 5, 3],\n",
       " [1, 2, 4, 3, 5],\n",
       " [1, 2, 3, 4, 4],\n",
       " [1, 2, 3, 5, 4],\n",
       " [1, 2, 3, 4, 5],\n",
       " [1, 2, 3, 3, 3],\n",
       " [1, 2, 3, 4, 3],\n",
       " [1, 2, 3, 3, 4],\n",
       " [1, 1, 3, 2, 2],\n",
       " [1, 1, 3, 4, 2],\n",
       " [1, 1, 3, 2, 4],\n",
       " [1, 1, 2, 2, 3],\n",
       " [1, 1, 2, 3, 2],\n",
       " [1, 1, 2, 2, 2],\n",
       " [1, 1, 4, 2, 3],\n",
       " [1, 1, 4, 3, 2],\n",
       " [1, 1, 4, 2, 2],\n",
       " [1, 1, 2, 3, 3],\n",
       " [1, 1, 2, 4, 3],\n",
       " [1, 1, 2, 3, 4],\n",
       " [1, 1, 2, 1, 3],\n",
       " [1, 1, 2, 1, 1],\n",
       " [1, 1, 2, 3, 1],\n",
       " [1, 1, 3, 1, 2],\n",
       " [1, 1, 3, 1, 1],\n",
       " [1, 1, 3, 2, 1],\n",
       " [1, 1, 1, 2, 3],\n",
       " [1, 1, 1, 3, 2],\n",
       " [1, 1, 1, 2, 2],\n",
       " [1, 1, 1, 2, 1],\n",
       " [1, 1, 1, 1, 1],\n",
       " [1, 1, 1, 1, 2],\n",
       " [1, 4, 2, 3, 1],\n",
       " [1, 4, 2, 1, 3],\n",
       " [1, 4, 2, 1, 1],\n",
       " [1, 4, 3, 2, 1],\n",
       " [1, 4, 3, 1, 2],\n",
       " [1, 4, 3, 1, 1],\n",
       " [1, 4, 1, 2, 3],\n",
       " [1, 4, 1, 3, 2],\n",
       " [1, 4, 1, 2, 2],\n",
       " [1, 4, 1, 2, 1],\n",
       " [1, 4, 1, 1, 1],\n",
       " [1, 4, 1, 1, 2],\n",
       " [1, 3, 1, 2, 2],\n",
       " [1, 3, 1, 4, 2],\n",
       " [1, 3, 1, 2, 4],\n",
       " [1, 3, 1, 1, 2],\n",
       " [1, 3, 1, 1, 1],\n",
       " [1, 3, 1, 2, 1],\n",
       " [1, 3, 4, 2, 1],\n",
       " [1, 3, 4, 1, 2],\n",
       " [1, 3, 4, 1, 1],\n",
       " [1, 3, 2, 4, 1],\n",
       " [1, 3, 2, 1, 4],\n",
       " [1, 3, 2, 1, 1],\n",
       " [1, 2, 1, 1, 3],\n",
       " [1, 2, 1, 1, 1],\n",
       " [1, 2, 1, 3, 1],\n",
       " [1, 2, 4, 3, 1],\n",
       " [1, 2, 4, 1, 3],\n",
       " [1, 2, 4, 1, 1],\n",
       " [1, 2, 3, 4, 1],\n",
       " [1, 2, 3, 1, 4],\n",
       " [1, 2, 3, 1, 1],\n",
       " [1, 2, 1, 3, 3],\n",
       " [1, 2, 1, 4, 3],\n",
       " [1, 2, 1, 3, 4]]"
      ]
     },
     "execution_count": 311,
     "metadata": {},
     "output_type": "execute_result"
    }
   ],
   "source": [
    "hexagon0_pfs"
   ]
  }
 ],
 "metadata": {
  "kernelspec": {
   "display_name": "SageMath 9.6",
   "language": "sage",
   "name": "sagemath-9.6"
  },
  "language_info": {
   "codemirror_mode": {
    "name": "ipython",
    "version": 3
   },
   "file_extension": ".py",
   "mimetype": "text/x-python",
   "name": "python",
   "nbconvert_exporter": "python",
   "pygments_lexer": "ipython3",
   "version": "3.10.3"
  }
 },
 "nbformat": 4,
 "nbformat_minor": 5
}
