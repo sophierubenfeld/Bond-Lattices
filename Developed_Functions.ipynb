{
 "cells": [
  {
   "cell_type": "markdown",
   "id": "cc1d6bd9",
   "metadata": {},
   "source": [
    "## A compilation of functions developed for this project:"
   ]
  },
  {
   "cell_type": "code",
   "execution_count": 1,
   "id": "cbf3d3b0",
   "metadata": {},
   "outputs": [],
   "source": [
    "def ordered_cycle_decomps(n):\n",
    "    '''Counts the number of ordered cycle decompositions of n\n",
    "    input: n\n",
    "    output: the number of ordered cycle decompositions of n'''\n",
    "    sum = 0\n",
    "    for i in range(1,n+1):\n",
    "        sum += factorial(i)*stirling_number1(n,i)\n",
    "    return sum"
   ]
  },
  {
   "cell_type": "code",
   "execution_count": 2,
   "id": "ceb46cc1",
   "metadata": {},
   "outputs": [],
   "source": [
    "def maximal_chains(BL):\n",
    "    '''Gives the number of maximal chains of a bond lattice.\n",
    "    Input: BL = the bond lattice\n",
    "    Return: the number of maximal chains in the lattice'''\n",
    "    return len(BL.maximal_chains())"
   ]
  },
  {
   "cell_type": "code",
   "execution_count": 3,
   "id": "8234db62",
   "metadata": {},
   "outputs": [],
   "source": [
    "def Bond_Lattice(g, n):\n",
    "    ''' Creates a bond lattice for a given graph \n",
    "    params: g = a graph over n vertices\n",
    "            n = the number of vertices\n",
    "    return: A Bond Lattice for the set partitions of n elements'''\n",
    "    \n",
    "    partitions = SetPartitions(n).list() #find all set partitions \n",
    "    \n",
    "    bad_partitions = [] #create lists to document partitions to include in the bond lattice or to leave out\n",
    "    good_partitions = []\n",
    "    \n",
    "    for partition in partitions: #looking at each partition indvidually\n",
    "        good_partition = True #automatically assume it creates a connected subgraph (innocent until proven guilty)\n",
    "\n",
    "        for block in partition: #look at a block of the partition                \n",
    "            new_graph = g.subgraph(vertices = block) #create an induced subgraph of the block\n",
    "            good_partition = new_graph.is_connected() #ask whether the subgraph of the partition is connected\n",
    "            if good_partition == False: #if its not connected...\n",
    "                bad_partitions.append(partition) #add it to the list of bad partitions\n",
    "                break #stop looking at this partition\n",
    "            \n",
    "        if good_partition: #if the induced subgraph of every block are all connected...\n",
    "            good_partitions.append(partition) #add it to the list of good partitions\n",
    "        \n",
    "    return posets.SetPartitions(n).subposet(good_partitions) #return a poset of only the good partitions"
   ]
  },
  {
   "cell_type": "code",
   "execution_count": 6,
   "id": "a5bbd939",
   "metadata": {},
   "outputs": [],
   "source": [
    "def stanleys_bijection(BL):\n",
    "    '''Computes Stanley's bijection on a noncrossing Bond Lattice\n",
    "    input: a Bond Lattice of noncrossing partitions\n",
    "    return: a list of all parking functions provided via Stanleys Bijection'''\n",
    "    all_pfs = [] #create an empty list\n",
    "    chains = BL.maximal_chains() #finds all maximal chains of the given bond lattice\n",
    "    for chain in chains: #iterate through each chain\n",
    "        parking_func = get_parking_function(chain) #retrieves the parking function for a given chain\n",
    "        all_pfs.append(parking_func) #adds this parking function to the total list\n",
    "    return all_pfs\n",
    "\n",
    "def get_parking_function(chain):\n",
    "    '''Computes the parking function for a given maximal chain\n",
    "    input: maximal noncrossing chain of a poset\n",
    "    return: the parking function of the given chain'''\n",
    "    chain_length = len(chain) #number of elements in the chain\n",
    "    parking_function = [] #create an empty parking function\n",
    "    for index in range(0, chain_length - 1):\n",
    "        x1 = 0\n",
    "        x2 = 0\n",
    "        for block in chain[index]: #identifying which blocks are combined in the next partition\n",
    "            if block not in chain[index+1]: \n",
    "                if x1 == 0: \n",
    "                    x1 = block\n",
    "                else:\n",
    "                    x2 = block\n",
    "        if min(x1) < min(x2):\n",
    "            smaller = x1\n",
    "            bigger = x2\n",
    "        else:\n",
    "            smaller = x2  \n",
    "            bigger = x1\n",
    "        parking_pref = 0\n",
    "        for element in smaller:\n",
    "            if element < min(bigger):\n",
    "                if element > parking_pref:\n",
    "                    parking_pref = element\n",
    "        parking_function.append(parking_pref)\n",
    "    return list(parking_function)"
   ]
  },
  {
   "cell_type": "code",
   "execution_count": 5,
   "id": "e634c25f",
   "metadata": {},
   "outputs": [],
   "source": [
    "from sage.combinat.parking_functions import ParkingFunctions\n",
    "\n",
    "def pfs_not_included(list_of_pfs, n):\n",
    "    '''Identifies all parking functions not found from the maximal chains of a Bond Lattice\n",
    "    input: pfs_of_triangulation: the parking functions given by stanleys bijection\n",
    "           n: the length of the parking functions\n",
    "    return: the list of classical parking functions excluded from the bond lattice'''\n",
    "    not_included = []\n",
    "    all_pfs = ParkingFunctions(n).list() \n",
    "    for i in range(len(all_pfs)): \n",
    "        all_pfs[i] = list(all_pfs[i]) #to account for data type incompatability\n",
    "    for pf in all_pfs: #iterate through all parking functions to identify missing parking functions\n",
    "        if pf not in list_of_pfs:\n",
    "            not_included.append(pf)\n",
    "    return not_included"
   ]
  },
  {
   "cell_type": "code",
   "execution_count": 1,
   "id": "985de371",
   "metadata": {},
   "outputs": [],
   "source": [
    "def in_common(list1, list2):\n",
    "    '''Creates a list of commonalities between two lists (of parking functions)\n",
    "    input: list1, list2: the lists to find commonalities between\n",
    "    return: a list of the commonalities between the two lists'''\n",
    "    commonalities = []\n",
    "    for elem in list1:\n",
    "        if elem in list2:\n",
    "            commonalities.append(elem)\n",
    "    return commonalities\n"
   ]
  },
  {
   "cell_type": "code",
   "execution_count": 2,
   "id": "faf4c3ed",
   "metadata": {},
   "outputs": [],
   "source": [
    "def noncrossing_partitions(n):\n",
    "    '''Creates poset of noncrossing partitions on n\n",
    "    input: the value to partition\n",
    "    return: a subposet of the poset of all partitions on n with only noncrossing partitions'''\n",
    "    NC = []\n",
    "    all_n = posets.SetPartitions(n)\n",
    "    for partition in all_n:\n",
    "        if partition.is_noncrossing():\n",
    "            NC.append(partition)\n",
    "    return posets.SetPartitions(n).subposet(NC)"
   ]
  },
  {
   "cell_type": "code",
   "execution_count": null,
   "id": "91f30f6f",
   "metadata": {},
   "outputs": [],
   "source": [
    "def cycle_graphs(n):\n",
    "    ''' Creates a cycle graph on n vertices\n",
    "    input: n = number of vertices\n",
    "    output: a cycle graph on n vertices'''\n",
    "    cyc = Graph()\n",
    "    for i in range(1, n):\n",
    "        cyc.add_edge(i, i + 1)\n",
    "    cyc.add_edge(1, n)\n",
    "    return cyc"
   ]
  },
  {
   "cell_type": "code",
   "execution_count": null,
   "id": "5aa6495e",
   "metadata": {},
   "outputs": [],
   "source": [
    "def triangulate(vertex, graph):\n",
    "    ''' Create a spider-vertex graph for a given vertex\n",
    "    input: vertex = a vertex to create a spider graph from\n",
    "           graph = the graph to triangulate\n",
    "    output: a triangulation spider graph'''\n",
    "    triangulated = graph\n",
    "    for v in graph.vertices():\n",
    "        if vertex != v:\n",
    "            if graph.has_edge(vertex, v) == False:\n",
    "                triangulated.add_edge(vertex, v)\n",
    "    triangulated.set_pos(triangulated.layout_circular())\n",
    "    return triangulated"
   ]
  },
  {
   "cell_type": "code",
   "execution_count": null,
   "id": "f838024a",
   "metadata": {},
   "outputs": [],
   "source": [
    "def type1(n):\n",
    "    '''Calculate the number of Type1 forests for a 1-spider graph on n vertices\n",
    "    input: n = number of vertices on the triangulation graph\n",
    "    output: the number of type 1 forests or parking functions with this characteristic'''\n",
    "    return n*pf_spider1(n - 1)"
   ]
  },
  {
   "cell_type": "code",
   "execution_count": null,
   "id": "cb935d33",
   "metadata": {},
   "outputs": [],
   "source": [
    "def type2(n, k = 3, tot = 0):\n",
    "    '''Calculate the total number of Type2 forests for a parking function of length n - 1 \n",
    "    (a spider-1 graph on n vertices)\n",
    "    input: n = length of parking function\n",
    "           k = starting value in binomial coefficient\n",
    "           tot = running total\n",
    "    output: number of Type2 forests'''\n",
    "    total = tot\n",
    "    while k <= n - 1:\n",
    "        total += binomial(n-2, k-2) * pf_spider1(k - 1) * pf_spider1(n - k + 1)\n",
    "        return type2(n, k = k+1, tot = total)\n",
    "    return total"
   ]
  },
  {
   "cell_type": "code",
   "execution_count": null,
   "id": "36b442c8",
   "metadata": {},
   "outputs": [],
   "source": [
    "def unimodal_forests_count(n):\n",
    "    '''Computes the number of unimodal forests for a spider-1 graph on n vertices.\n",
    "    Note: this is also the number of parking functions for a spider-1 graph on n vertices\n",
    "    input: n = the number of vertices on the graph\n",
    "    output: the total number of unimodal forests'''\n",
    "    t1 = type1(n)\n",
    "    t2 = type2(n)\n",
    "    return t1 + t2"
   ]
  }
 ],
 "metadata": {
  "kernelspec": {
   "display_name": "SageMath 9.6",
   "language": "sage",
   "name": "sagemath-9.6"
  },
  "language_info": {
   "codemirror_mode": {
    "name": "ipython",
    "version": 3
   },
   "file_extension": ".py",
   "mimetype": "text/x-python",
   "name": "python",
   "nbconvert_exporter": "python",
   "pygments_lexer": "ipython3",
   "version": "3.10.3"
  }
 },
 "nbformat": 4,
 "nbformat_minor": 5
}
